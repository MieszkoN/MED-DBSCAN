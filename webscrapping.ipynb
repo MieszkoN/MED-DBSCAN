{
 "cells": [
  {
   "cell_type": "code",
   "execution_count": null,
   "metadata": {},
   "outputs": [],
   "source": [
    "import pandas as pd\n",
    "import snscrape.modules.twitter as sc_twt\n",
    "import itertools"
   ]
  },
  {
   "cell_type": "code",
   "execution_count": null,
   "metadata": {},
   "outputs": [],
   "source": [
    "def  scrape_and_save(search_str: str, file_name: str, num_tweets: int = 2000, slice: bool = True):\n",
    "\n",
    "    scraped_tweets = sc_twt.TwitterSearchScraper(search_str).get_items()\n",
    "\n",
    "    if(slice):\n",
    "        sliced_scraped_tweets = itertools.islice(scraped_tweets, num_tweets)\n",
    "        df = pd.DataFrame(sliced_scraped_tweets)\n",
    "    else:\n",
    "        df = pd.DataFrame(scraped_tweets)\n",
    "\n",
    "    if df.empty == False:\n",
    "        scr = pd.DataFrame.copy( df[['id', 'date', 'user', 'media', 'lang', 'content', 'hashtags', 'likeCount', 'replyCount', 'quoteCount']])\n",
    "\n",
    "        scr['user_name'] = scr['user'].apply(lambda x: x['username'])\n",
    "        scr['user_location'] =  scr['user'].apply(lambda x: x['location'])\n",
    "        scr['user_isprotected'] = scr['user'].apply(lambda x: x['protected'])\n",
    "        scr['user_isverified'] = scr['user'].apply(lambda x: x['verified'])\n",
    "\n",
    "        scr = scr.drop(columns=['user'])\n",
    "\n",
    "        print(\"num scraped tweets:\" + str(scr.count()))\n",
    "        print(scr.head(5))\n",
    "        scr.to_csv(file_name)\n",
    "    else:\n",
    "        print(\"empty df\")"
   ]
  },
  {
   "cell_type": "code",
   "execution_count": null,
   "metadata": {},
   "outputs": [],
   "source": [
    "# get tweets in english\n",
    "en_search = '(quatar OR Quatar OR WorldCup OR WorldCup2022 OR FifaWorldCup) since:2022-10-10 until:2022-11-10 lang:en'\n",
    "scrape_and_save(search_str = en_search, file_name = 'data/en_scraped_tweets2.csv', slice = False)"
   ]
  },
  {
   "cell_type": "code",
   "execution_count": null,
   "metadata": {},
   "outputs": [],
   "source": [
    "# get tweets in polish\n",
    "pl_search = '(quatar OR Quatar OR WorldCup OR WorldCup2022 OR FifaWorldCup OR MistrzostwaŚwiata OR MŚ OR Mundial) since:2022-10-10 until:2022-11-10 lang:pl'\n",
    "scrape_and_save(search_str = pl_search, file_name = 'data/pl_scraped_tweets2.csv', num_tweets=20000, slice=True)"
   ]
  }
 ],
 "metadata": {
  "kernelspec": {
   "display_name": "Python 3.10.9 ('med-dbscan': venv)",
   "language": "python",
   "name": "python3"
  },
  "language_info": {
   "codemirror_mode": {
    "name": "ipython",
    "version": 3
   },
   "file_extension": ".py",
   "mimetype": "text/x-python",
   "name": "python",
   "nbconvert_exporter": "python",
   "pygments_lexer": "ipython3",
   "version": "3.10.9"
  },
  "orig_nbformat": 4,
  "vscode": {
   "interpreter": {
    "hash": "fa7fd3f0e24fa8644e0da10f40ff2c8f6a08a513772b432ed42da2cf0b22378d"
   }
  }
 },
 "nbformat": 4,
 "nbformat_minor": 2
}
