{
 "cells": [
  {
   "cell_type": "code",
   "execution_count": 1,
   "metadata": {},
   "outputs": [],
   "source": [
    "import pandas as pd\n",
    "from sklearn.feature_extraction import text\n",
    "import nltk\n",
    "import numpy as np\n",
    "from nltk.stem import WordNetLemmatizer\n",
    "from sklearn.preprocessing import OrdinalEncoder\n",
    "from sklearn.feature_extraction.text import TfidfVectorizer\n",
    "from sklearn.decomposition import TruncatedSVD\n",
    "from sklearn.pipeline import make_pipeline\n",
    "import stop_words as sw\n",
    "from nltk.tokenize import word_tokenize \n",
    "from sklearn.preprocessing import Normalizer"
   ]
  },
  {
   "cell_type": "markdown",
   "metadata": {},
   "source": [
    "## Data preprocessing"
   ]
  },
  {
   "cell_type": "markdown",
   "metadata": {},
   "source": [
    "### Read data"
   ]
  },
  {
   "cell_type": "code",
   "execution_count": 2,
   "metadata": {},
   "outputs": [
    {
     "data": {
      "text/html": [
       "<div>\n",
       "<style scoped>\n",
       "    .dataframe tbody tr th:only-of-type {\n",
       "        vertical-align: middle;\n",
       "    }\n",
       "\n",
       "    .dataframe tbody tr th {\n",
       "        vertical-align: top;\n",
       "    }\n",
       "\n",
       "    .dataframe thead th {\n",
       "        text-align: right;\n",
       "    }\n",
       "</style>\n",
       "<table border=\"1\" class=\"dataframe\">\n",
       "  <thead>\n",
       "    <tr style=\"text-align: right;\">\n",
       "      <th></th>\n",
       "      <th>Unnamed: 0</th>\n",
       "      <th>id</th>\n",
       "      <th>date</th>\n",
       "      <th>media</th>\n",
       "      <th>lang</th>\n",
       "      <th>content</th>\n",
       "      <th>hashtags</th>\n",
       "      <th>likeCount</th>\n",
       "      <th>replyCount</th>\n",
       "      <th>quoteCount</th>\n",
       "      <th>user_name</th>\n",
       "      <th>user_location</th>\n",
       "      <th>user_isprotected</th>\n",
       "      <th>user_isverified</th>\n",
       "    </tr>\n",
       "  </thead>\n",
       "  <tbody>\n",
       "    <tr>\n",
       "      <th>0</th>\n",
       "      <td>0</td>\n",
       "      <td>1590493636424503296</td>\n",
       "      <td>2022-11-09 23:56:47+00:00</td>\n",
       "      <td>NaN</td>\n",
       "      <td>pl</td>\n",
       "      <td>Patrząc po dzisiejszym twitterze brak powołani...</td>\n",
       "      <td>NaN</td>\n",
       "      <td>82</td>\n",
       "      <td>0</td>\n",
       "      <td>0</td>\n",
       "      <td>ElKova11</td>\n",
       "      <td>Gdańsk, Polska</td>\n",
       "      <td>False</td>\n",
       "      <td>False</td>\n",
       "    </tr>\n",
       "    <tr>\n",
       "      <th>1</th>\n",
       "      <td>1</td>\n",
       "      <td>1590493490454364160</td>\n",
       "      <td>2022-11-09 23:56:12+00:00</td>\n",
       "      <td>NaN</td>\n",
       "      <td>pl</td>\n",
       "      <td>awieeee https://t.co/2g9JCV08Fq</td>\n",
       "      <td>NaN</td>\n",
       "      <td>1</td>\n",
       "      <td>0</td>\n",
       "      <td>0</td>\n",
       "      <td>ms_graceyyy</td>\n",
       "      <td>NaN</td>\n",
       "      <td>False</td>\n",
       "      <td>False</td>\n",
       "    </tr>\n",
       "  </tbody>\n",
       "</table>\n",
       "</div>"
      ],
      "text/plain": [
       "   Unnamed: 0                   id                       date media lang  \\\n",
       "0           0  1590493636424503296  2022-11-09 23:56:47+00:00   NaN   pl   \n",
       "1           1  1590493490454364160  2022-11-09 23:56:12+00:00   NaN   pl   \n",
       "\n",
       "                                             content hashtags  likeCount  \\\n",
       "0  Patrząc po dzisiejszym twitterze brak powołani...      NaN         82   \n",
       "1                    awieeee https://t.co/2g9JCV08Fq      NaN          1   \n",
       "\n",
       "   replyCount  quoteCount    user_name   user_location  user_isprotected  \\\n",
       "0           0           0     ElKova11  Gdańsk, Polska             False   \n",
       "1           0           0  ms_graceyyy             NaN             False   \n",
       "\n",
       "   user_isverified  \n",
       "0            False  \n",
       "1            False  "
      ]
     },
     "execution_count": 2,
     "metadata": {},
     "output_type": "execute_result"
    }
   ],
   "source": [
    "df_pl_tweets = pd.read_csv(\"data/pl_scraped_tweets2.csv\", delimiter=',')\n",
    "df_pl_tweets.head(2)"
   ]
  },
  {
   "cell_type": "code",
   "execution_count": 3,
   "metadata": {},
   "outputs": [
    {
     "name": "stdout",
     "output_type": "stream",
     "text": [
      "<class 'pandas.core.frame.DataFrame'>\n",
      "RangeIndex: 20000 entries, 0 to 19999\n",
      "Data columns (total 14 columns):\n",
      " #   Column            Non-Null Count  Dtype \n",
      "---  ------            --------------  ----- \n",
      " 0   Unnamed: 0        20000 non-null  int64 \n",
      " 1   id                20000 non-null  int64 \n",
      " 2   date              20000 non-null  object\n",
      " 3   media             1983 non-null   object\n",
      " 4   lang              20000 non-null  object\n",
      " 5   content           20000 non-null  object\n",
      " 6   hashtags          1267 non-null   object\n",
      " 7   likeCount         20000 non-null  int64 \n",
      " 8   replyCount        20000 non-null  int64 \n",
      " 9   quoteCount        20000 non-null  int64 \n",
      " 10  user_name         20000 non-null  object\n",
      " 11  user_location     11381 non-null  object\n",
      " 12  user_isprotected  20000 non-null  bool  \n",
      " 13  user_isverified   20000 non-null  bool  \n",
      "dtypes: bool(2), int64(5), object(7)\n",
      "memory usage: 1.9+ MB\n"
     ]
    }
   ],
   "source": [
    "df_pl_tweets.info()"
   ]
  },
  {
   "cell_type": "code",
   "execution_count": 4,
   "metadata": {},
   "outputs": [
    {
     "data": {
      "text/html": [
       "<div>\n",
       "<style scoped>\n",
       "    .dataframe tbody tr th:only-of-type {\n",
       "        vertical-align: middle;\n",
       "    }\n",
       "\n",
       "    .dataframe tbody tr th {\n",
       "        vertical-align: top;\n",
       "    }\n",
       "\n",
       "    .dataframe thead th {\n",
       "        text-align: right;\n",
       "    }\n",
       "</style>\n",
       "<table border=\"1\" class=\"dataframe\">\n",
       "  <thead>\n",
       "    <tr style=\"text-align: right;\">\n",
       "      <th></th>\n",
       "      <th>Unnamed: 0</th>\n",
       "      <th>id</th>\n",
       "      <th>date</th>\n",
       "      <th>media</th>\n",
       "      <th>lang</th>\n",
       "      <th>content</th>\n",
       "      <th>hashtags</th>\n",
       "      <th>likeCount</th>\n",
       "      <th>replyCount</th>\n",
       "      <th>quoteCount</th>\n",
       "      <th>user_name</th>\n",
       "      <th>user_location</th>\n",
       "      <th>user_isprotected</th>\n",
       "      <th>user_isverified</th>\n",
       "    </tr>\n",
       "  </thead>\n",
       "  <tbody>\n",
       "    <tr>\n",
       "      <th>0</th>\n",
       "      <td>0</td>\n",
       "      <td>1586870117631086592</td>\n",
       "      <td>2022-10-30 23:58:13+00:00</td>\n",
       "      <td>NaN</td>\n",
       "      <td>en</td>\n",
       "      <td>@Futuball_io Very good project \\n@ronibd_raj \\...</td>\n",
       "      <td>['Futuball', 'FB', 'WorldCup2022', 'BNB']</td>\n",
       "      <td>0</td>\n",
       "      <td>0</td>\n",
       "      <td>0</td>\n",
       "      <td>JibonMi34339450</td>\n",
       "      <td>NaN</td>\n",
       "      <td>False</td>\n",
       "      <td>False</td>\n",
       "    </tr>\n",
       "    <tr>\n",
       "      <th>1</th>\n",
       "      <td>1</td>\n",
       "      <td>1586869850672140289</td>\n",
       "      <td>2022-10-30 23:57:09+00:00</td>\n",
       "      <td>NaN</td>\n",
       "      <td>es</td>\n",
       "      <td>@fifaworldcup_es @Nacional gracias firme</td>\n",
       "      <td>NaN</td>\n",
       "      <td>3</td>\n",
       "      <td>0</td>\n",
       "      <td>0</td>\n",
       "      <td>Totoa1899</td>\n",
       "      <td>República de Villa Española</td>\n",
       "      <td>False</td>\n",
       "      <td>False</td>\n",
       "    </tr>\n",
       "  </tbody>\n",
       "</table>\n",
       "</div>"
      ],
      "text/plain": [
       "   Unnamed: 0                   id                       date media lang  \\\n",
       "0           0  1586870117631086592  2022-10-30 23:58:13+00:00   NaN   en   \n",
       "1           1  1586869850672140289  2022-10-30 23:57:09+00:00   NaN   es   \n",
       "\n",
       "                                             content  \\\n",
       "0  @Futuball_io Very good project \\n@ronibd_raj \\...   \n",
       "1           @fifaworldcup_es @Nacional gracias firme   \n",
       "\n",
       "                                    hashtags  likeCount  replyCount  \\\n",
       "0  ['Futuball', 'FB', 'WorldCup2022', 'BNB']          0           0   \n",
       "1                                        NaN          3           0   \n",
       "\n",
       "   quoteCount        user_name                user_location  user_isprotected  \\\n",
       "0           0  JibonMi34339450                          NaN             False   \n",
       "1           0        Totoa1899  República de Villa Española             False   \n",
       "\n",
       "   user_isverified  \n",
       "0            False  \n",
       "1            False  "
      ]
     },
     "execution_count": 4,
     "metadata": {},
     "output_type": "execute_result"
    }
   ],
   "source": [
    "df_en_tweets = pd.read_csv(\"data/en_scraped_tweets2.csv\", delimiter=',')\n",
    "df_en_tweets.head(2)"
   ]
  },
  {
   "cell_type": "code",
   "execution_count": 5,
   "metadata": {},
   "outputs": [
    {
     "name": "stdout",
     "output_type": "stream",
     "text": [
      "<class 'pandas.core.frame.DataFrame'>\n",
      "RangeIndex: 20000 entries, 0 to 19999\n",
      "Data columns (total 14 columns):\n",
      " #   Column            Non-Null Count  Dtype \n",
      "---  ------            --------------  ----- \n",
      " 0   Unnamed: 0        20000 non-null  int64 \n",
      " 1   id                20000 non-null  int64 \n",
      " 2   date              20000 non-null  object\n",
      " 3   media             5138 non-null   object\n",
      " 4   lang              20000 non-null  object\n",
      " 5   content           20000 non-null  object\n",
      " 6   hashtags          12170 non-null  object\n",
      " 7   likeCount         20000 non-null  int64 \n",
      " 8   replyCount        20000 non-null  int64 \n",
      " 9   quoteCount        20000 non-null  int64 \n",
      " 10  user_name         20000 non-null  object\n",
      " 11  user_location     12681 non-null  object\n",
      " 12  user_isprotected  20000 non-null  bool  \n",
      " 13  user_isverified   20000 non-null  bool  \n",
      "dtypes: bool(2), int64(5), object(7)\n",
      "memory usage: 1.9+ MB\n"
     ]
    }
   ],
   "source": [
    "df_en_tweets.info()"
   ]
  },
  {
   "cell_type": "markdown",
   "metadata": {},
   "source": [
    "### clean columns"
   ]
  },
  {
   "cell_type": "markdown",
   "metadata": {},
   "source": [
    "#### Ensure that pl tweets are just in polish and en are just in english"
   ]
  },
  {
   "cell_type": "code",
   "execution_count": 6,
   "metadata": {},
   "outputs": [
    {
     "name": "stdout",
     "output_type": "stream",
     "text": [
      "<class 'pandas.core.frame.DataFrame'>\n",
      "Int64Index: 19998 entries, 0 to 19999\n",
      "Data columns (total 14 columns):\n",
      " #   Column            Non-Null Count  Dtype \n",
      "---  ------            --------------  ----- \n",
      " 0   Unnamed: 0        19998 non-null  int64 \n",
      " 1   id                19998 non-null  int64 \n",
      " 2   date              19998 non-null  object\n",
      " 3   media             1983 non-null   object\n",
      " 4   lang              19998 non-null  object\n",
      " 5   content           19998 non-null  object\n",
      " 6   hashtags          1266 non-null   object\n",
      " 7   likeCount         19998 non-null  int64 \n",
      " 8   replyCount        19998 non-null  int64 \n",
      " 9   quoteCount        19998 non-null  int64 \n",
      " 10  user_name         19998 non-null  object\n",
      " 11  user_location     11380 non-null  object\n",
      " 12  user_isprotected  19998 non-null  bool  \n",
      " 13  user_isverified   19998 non-null  bool  \n",
      "dtypes: bool(2), int64(5), object(7)\n",
      "memory usage: 2.0+ MB\n"
     ]
    }
   ],
   "source": [
    "df_pl_tweets = df_pl_tweets.loc[df_pl_tweets['lang'] == 'pl']\n",
    "df_pl_tweets.info()"
   ]
  },
  {
   "cell_type": "code",
   "execution_count": 7,
   "metadata": {},
   "outputs": [
    {
     "name": "stdout",
     "output_type": "stream",
     "text": [
      "<class 'pandas.core.frame.DataFrame'>\n",
      "Int64Index: 19867 entries, 0 to 19999\n",
      "Data columns (total 14 columns):\n",
      " #   Column            Non-Null Count  Dtype \n",
      "---  ------            --------------  ----- \n",
      " 0   Unnamed: 0        19867 non-null  int64 \n",
      " 1   id                19867 non-null  int64 \n",
      " 2   date              19867 non-null  object\n",
      " 3   media             5098 non-null   object\n",
      " 4   lang              19867 non-null  object\n",
      " 5   content           19867 non-null  object\n",
      " 6   hashtags          12121 non-null  object\n",
      " 7   likeCount         19867 non-null  int64 \n",
      " 8   replyCount        19867 non-null  int64 \n",
      " 9   quoteCount        19867 non-null  int64 \n",
      " 10  user_name         19867 non-null  object\n",
      " 11  user_location     12602 non-null  object\n",
      " 12  user_isprotected  19867 non-null  bool  \n",
      " 13  user_isverified   19867 non-null  bool  \n",
      "dtypes: bool(2), int64(5), object(7)\n",
      "memory usage: 2.0+ MB\n"
     ]
    }
   ],
   "source": [
    "df_en_tweets = df_en_tweets.loc[df_en_tweets['lang'] == 'en']\n",
    "df_en_tweets.info()"
   ]
  },
  {
   "cell_type": "code",
   "execution_count": 8,
   "metadata": {},
   "outputs": [],
   "source": [
    "df_list = [df_pl_tweets, df_en_tweets]"
   ]
  },
  {
   "cell_type": "markdown",
   "metadata": {},
   "source": [
    "##### add new, simpler index"
   ]
  },
  {
   "cell_type": "code",
   "execution_count": 9,
   "metadata": {},
   "outputs": [],
   "source": [
    "# create new index\n",
    "for df in df_list:\n",
    "    df.insert(0, 'ID', range(0, len(df)))\n",
    "    df = df.set_index('ID')"
   ]
  },
  {
   "cell_type": "code",
   "execution_count": 10,
   "metadata": {},
   "outputs": [
    {
     "data": {
      "text/html": [
       "<div>\n",
       "<style scoped>\n",
       "    .dataframe tbody tr th:only-of-type {\n",
       "        vertical-align: middle;\n",
       "    }\n",
       "\n",
       "    .dataframe tbody tr th {\n",
       "        vertical-align: top;\n",
       "    }\n",
       "\n",
       "    .dataframe thead th {\n",
       "        text-align: right;\n",
       "    }\n",
       "</style>\n",
       "<table border=\"1\" class=\"dataframe\">\n",
       "  <thead>\n",
       "    <tr style=\"text-align: right;\">\n",
       "      <th></th>\n",
       "      <th>ID</th>\n",
       "      <th>Unnamed: 0</th>\n",
       "      <th>id</th>\n",
       "      <th>date</th>\n",
       "      <th>media</th>\n",
       "      <th>lang</th>\n",
       "      <th>content</th>\n",
       "      <th>hashtags</th>\n",
       "      <th>likeCount</th>\n",
       "      <th>replyCount</th>\n",
       "      <th>quoteCount</th>\n",
       "      <th>user_name</th>\n",
       "      <th>user_location</th>\n",
       "      <th>user_isprotected</th>\n",
       "      <th>user_isverified</th>\n",
       "    </tr>\n",
       "  </thead>\n",
       "  <tbody>\n",
       "    <tr>\n",
       "      <th>0</th>\n",
       "      <td>0</td>\n",
       "      <td>0</td>\n",
       "      <td>1586870117631086592</td>\n",
       "      <td>2022-10-30 23:58:13+00:00</td>\n",
       "      <td>NaN</td>\n",
       "      <td>en</td>\n",
       "      <td>@Futuball_io Very good project \\n@ronibd_raj \\...</td>\n",
       "      <td>['Futuball', 'FB', 'WorldCup2022', 'BNB']</td>\n",
       "      <td>0</td>\n",
       "      <td>0</td>\n",
       "      <td>0</td>\n",
       "      <td>JibonMi34339450</td>\n",
       "      <td>NaN</td>\n",
       "      <td>False</td>\n",
       "      <td>False</td>\n",
       "    </tr>\n",
       "    <tr>\n",
       "      <th>2</th>\n",
       "      <td>1</td>\n",
       "      <td>2</td>\n",
       "      <td>1586869642605125632</td>\n",
       "      <td>2022-10-30 23:56:20+00:00</td>\n",
       "      <td>NaN</td>\n",
       "      <td>en</td>\n",
       "      <td>@ikkanomics Scnrio. Worldcup Ind Vs SA:Cricket...</td>\n",
       "      <td>NaN</td>\n",
       "      <td>0</td>\n",
       "      <td>0</td>\n",
       "      <td>0</td>\n",
       "      <td>dbdon4</td>\n",
       "      <td>NaN</td>\n",
       "      <td>False</td>\n",
       "      <td>False</td>\n",
       "    </tr>\n",
       "    <tr>\n",
       "      <th>3</th>\n",
       "      <td>2</td>\n",
       "      <td>3</td>\n",
       "      <td>1586869559524577281</td>\n",
       "      <td>2022-10-30 23:56:00+00:00</td>\n",
       "      <td>NaN</td>\n",
       "      <td>en</td>\n",
       "      <td>@OGDfarmer In the meantime @flufworld is build...</td>\n",
       "      <td>NaN</td>\n",
       "      <td>2</td>\n",
       "      <td>0</td>\n",
       "      <td>0</td>\n",
       "      <td>iAmKaolo</td>\n",
       "      <td>NaN</td>\n",
       "      <td>False</td>\n",
       "      <td>False</td>\n",
       "    </tr>\n",
       "  </tbody>\n",
       "</table>\n",
       "</div>"
      ],
      "text/plain": [
       "   ID  Unnamed: 0                   id                       date media lang  \\\n",
       "0   0           0  1586870117631086592  2022-10-30 23:58:13+00:00   NaN   en   \n",
       "2   1           2  1586869642605125632  2022-10-30 23:56:20+00:00   NaN   en   \n",
       "3   2           3  1586869559524577281  2022-10-30 23:56:00+00:00   NaN   en   \n",
       "\n",
       "                                             content  \\\n",
       "0  @Futuball_io Very good project \\n@ronibd_raj \\...   \n",
       "2  @ikkanomics Scnrio. Worldcup Ind Vs SA:Cricket...   \n",
       "3  @OGDfarmer In the meantime @flufworld is build...   \n",
       "\n",
       "                                    hashtags  likeCount  replyCount  \\\n",
       "0  ['Futuball', 'FB', 'WorldCup2022', 'BNB']          0           0   \n",
       "2                                        NaN          0           0   \n",
       "3                                        NaN          2           0   \n",
       "\n",
       "   quoteCount        user_name user_location  user_isprotected  \\\n",
       "0           0  JibonMi34339450           NaN             False   \n",
       "2           0           dbdon4           NaN             False   \n",
       "3           0         iAmKaolo           NaN             False   \n",
       "\n",
       "   user_isverified  \n",
       "0            False  \n",
       "2            False  \n",
       "3            False  "
      ]
     },
     "execution_count": 10,
     "metadata": {},
     "output_type": "execute_result"
    }
   ],
   "source": [
    "df_en_tweets.head(3)"
   ]
  },
  {
   "cell_type": "code",
   "execution_count": 11,
   "metadata": {},
   "outputs": [
    {
     "data": {
      "text/html": [
       "<div>\n",
       "<style scoped>\n",
       "    .dataframe tbody tr th:only-of-type {\n",
       "        vertical-align: middle;\n",
       "    }\n",
       "\n",
       "    .dataframe tbody tr th {\n",
       "        vertical-align: top;\n",
       "    }\n",
       "\n",
       "    .dataframe thead th {\n",
       "        text-align: right;\n",
       "    }\n",
       "</style>\n",
       "<table border=\"1\" class=\"dataframe\">\n",
       "  <thead>\n",
       "    <tr style=\"text-align: right;\">\n",
       "      <th></th>\n",
       "      <th>ID</th>\n",
       "      <th>lang</th>\n",
       "      <th>content</th>\n",
       "      <th>user_location</th>\n",
       "    </tr>\n",
       "  </thead>\n",
       "  <tbody>\n",
       "    <tr>\n",
       "      <th>0</th>\n",
       "      <td>0</td>\n",
       "      <td>pl</td>\n",
       "      <td>Patrząc po dzisiejszym twitterze brak powołani...</td>\n",
       "      <td>Gdańsk, Polska</td>\n",
       "    </tr>\n",
       "    <tr>\n",
       "      <th>1</th>\n",
       "      <td>1</td>\n",
       "      <td>pl</td>\n",
       "      <td>awieeee https://t.co/2g9JCV08Fq</td>\n",
       "      <td>NaN</td>\n",
       "    </tr>\n",
       "    <tr>\n",
       "      <th>2</th>\n",
       "      <td>2</td>\n",
       "      <td>pl</td>\n",
       "      <td>-Brak większej liczby reprezentacji, choćby ty...</td>\n",
       "      <td>Szczecin, Polska</td>\n",
       "    </tr>\n",
       "  </tbody>\n",
       "</table>\n",
       "</div>"
      ],
      "text/plain": [
       "   ID lang                                            content  \\\n",
       "0   0   pl  Patrząc po dzisiejszym twitterze brak powołani...   \n",
       "1   1   pl                    awieeee https://t.co/2g9JCV08Fq   \n",
       "2   2   pl  -Brak większej liczby reprezentacji, choćby ty...   \n",
       "\n",
       "      user_location  \n",
       "0    Gdańsk, Polska  \n",
       "1               NaN  \n",
       "2  Szczecin, Polska  "
      ]
     },
     "execution_count": 11,
     "metadata": {},
     "output_type": "execute_result"
    }
   ],
   "source": [
    "df_pl_tweets = df_pl_tweets[['ID', 'lang', 'content', 'user_location']]\n",
    "df_pl_tweets.head(3)"
   ]
  },
  {
   "cell_type": "code",
   "execution_count": 12,
   "metadata": {},
   "outputs": [
    {
     "data": {
      "text/html": [
       "<div>\n",
       "<style scoped>\n",
       "    .dataframe tbody tr th:only-of-type {\n",
       "        vertical-align: middle;\n",
       "    }\n",
       "\n",
       "    .dataframe tbody tr th {\n",
       "        vertical-align: top;\n",
       "    }\n",
       "\n",
       "    .dataframe thead th {\n",
       "        text-align: right;\n",
       "    }\n",
       "</style>\n",
       "<table border=\"1\" class=\"dataframe\">\n",
       "  <thead>\n",
       "    <tr style=\"text-align: right;\">\n",
       "      <th></th>\n",
       "      <th>ID</th>\n",
       "      <th>lang</th>\n",
       "      <th>content</th>\n",
       "      <th>user_location</th>\n",
       "    </tr>\n",
       "  </thead>\n",
       "  <tbody>\n",
       "    <tr>\n",
       "      <th>0</th>\n",
       "      <td>0</td>\n",
       "      <td>en</td>\n",
       "      <td>@Futuball_io Very good project \\n@ronibd_raj \\...</td>\n",
       "      <td>NaN</td>\n",
       "    </tr>\n",
       "    <tr>\n",
       "      <th>2</th>\n",
       "      <td>1</td>\n",
       "      <td>en</td>\n",
       "      <td>@ikkanomics Scnrio. Worldcup Ind Vs SA:Cricket...</td>\n",
       "      <td>NaN</td>\n",
       "    </tr>\n",
       "    <tr>\n",
       "      <th>3</th>\n",
       "      <td>2</td>\n",
       "      <td>en</td>\n",
       "      <td>@OGDfarmer In the meantime @flufworld is build...</td>\n",
       "      <td>NaN</td>\n",
       "    </tr>\n",
       "  </tbody>\n",
       "</table>\n",
       "</div>"
      ],
      "text/plain": [
       "   ID lang                                            content user_location\n",
       "0   0   en  @Futuball_io Very good project \\n@ronibd_raj \\...           NaN\n",
       "2   1   en  @ikkanomics Scnrio. Worldcup Ind Vs SA:Cricket...           NaN\n",
       "3   2   en  @OGDfarmer In the meantime @flufworld is build...           NaN"
      ]
     },
     "execution_count": 12,
     "metadata": {},
     "output_type": "execute_result"
    }
   ],
   "source": [
    "df_en_tweets = df_en_tweets[['ID', 'lang', 'content', 'user_location']]\n",
    "df_en_tweets.head(3)"
   ]
  },
  {
   "cell_type": "markdown",
   "metadata": {},
   "source": [
    "#### Encode location column"
   ]
  },
  {
   "cell_type": "code",
   "execution_count": 13,
   "metadata": {},
   "outputs": [],
   "source": [
    "oe = OrdinalEncoder()\n",
    "\n",
    "df_list = [df_pl_tweets, df_en_tweets]\n",
    "\n",
    "for df in df_list:\n",
    "    df['location'] = df['user_location']\n",
    "    df['location'] = oe.fit_transform(np.array(df['location']).reshape(-1, 1))"
   ]
  },
  {
   "cell_type": "code",
   "execution_count": 14,
   "metadata": {},
   "outputs": [
    {
     "name": "stdout",
     "output_type": "stream",
     "text": [
      "<class 'pandas.core.frame.DataFrame'>\n",
      "Int64Index: 19867 entries, 0 to 19999\n",
      "Data columns (total 4 columns):\n",
      " #   Column    Non-Null Count  Dtype  \n",
      "---  ------    --------------  -----  \n",
      " 0   ID        19867 non-null  int64  \n",
      " 1   lang      19867 non-null  object \n",
      " 2   content   19867 non-null  object \n",
      " 3   location  12602 non-null  float64\n",
      "dtypes: float64(1), int64(1), object(2)\n",
      "memory usage: 776.1+ KB\n"
     ]
    }
   ],
   "source": [
    "df_en_tweets = df_en_tweets.drop(columns = ['user_location'])\n",
    "df_en_tweets.info()"
   ]
  },
  {
   "cell_type": "code",
   "execution_count": 15,
   "metadata": {},
   "outputs": [
    {
     "name": "stdout",
     "output_type": "stream",
     "text": [
      "<class 'pandas.core.frame.DataFrame'>\n",
      "Int64Index: 19998 entries, 0 to 19999\n",
      "Data columns (total 4 columns):\n",
      " #   Column    Non-Null Count  Dtype  \n",
      "---  ------    --------------  -----  \n",
      " 0   ID        19998 non-null  int64  \n",
      " 1   lang      19998 non-null  object \n",
      " 2   content   19998 non-null  object \n",
      " 3   location  11380 non-null  float64\n",
      "dtypes: float64(1), int64(1), object(2)\n",
      "memory usage: 781.2+ KB\n"
     ]
    }
   ],
   "source": [
    "df_pl_tweets = df_pl_tweets.drop(columns = ['user_location'])\n",
    "df_pl_tweets.info()"
   ]
  },
  {
   "cell_type": "code",
   "execution_count": 16,
   "metadata": {},
   "outputs": [
    {
     "data": {
      "text/html": [
       "<div>\n",
       "<style scoped>\n",
       "    .dataframe tbody tr th:only-of-type {\n",
       "        vertical-align: middle;\n",
       "    }\n",
       "\n",
       "    .dataframe tbody tr th {\n",
       "        vertical-align: top;\n",
       "    }\n",
       "\n",
       "    .dataframe thead th {\n",
       "        text-align: right;\n",
       "    }\n",
       "</style>\n",
       "<table border=\"1\" class=\"dataframe\">\n",
       "  <thead>\n",
       "    <tr style=\"text-align: right;\">\n",
       "      <th></th>\n",
       "      <th>ID</th>\n",
       "      <th>lang</th>\n",
       "      <th>content</th>\n",
       "      <th>location</th>\n",
       "    </tr>\n",
       "  </thead>\n",
       "  <tbody>\n",
       "    <tr>\n",
       "      <th>0</th>\n",
       "      <td>0</td>\n",
       "      <td>pl</td>\n",
       "      <td>Patrząc po dzisiejszym twitterze brak powołani...</td>\n",
       "      <td>462.0</td>\n",
       "    </tr>\n",
       "    <tr>\n",
       "      <th>1</th>\n",
       "      <td>1</td>\n",
       "      <td>pl</td>\n",
       "      <td>awieeee https://t.co/2g9JCV08Fq</td>\n",
       "      <td>NaN</td>\n",
       "    </tr>\n",
       "  </tbody>\n",
       "</table>\n",
       "</div>"
      ],
      "text/plain": [
       "   ID lang                                            content  location\n",
       "0   0   pl  Patrząc po dzisiejszym twitterze brak powołani...     462.0\n",
       "1   1   pl                    awieeee https://t.co/2g9JCV08Fq       NaN"
      ]
     },
     "execution_count": 16,
     "metadata": {},
     "output_type": "execute_result"
    }
   ],
   "source": [
    "df_pl_tweets.head(2)"
   ]
  },
  {
   "cell_type": "code",
   "execution_count": 17,
   "metadata": {},
   "outputs": [
    {
     "data": {
      "text/html": [
       "<div>\n",
       "<style scoped>\n",
       "    .dataframe tbody tr th:only-of-type {\n",
       "        vertical-align: middle;\n",
       "    }\n",
       "\n",
       "    .dataframe tbody tr th {\n",
       "        vertical-align: top;\n",
       "    }\n",
       "\n",
       "    .dataframe thead th {\n",
       "        text-align: right;\n",
       "    }\n",
       "</style>\n",
       "<table border=\"1\" class=\"dataframe\">\n",
       "  <thead>\n",
       "    <tr style=\"text-align: right;\">\n",
       "      <th></th>\n",
       "      <th>ID</th>\n",
       "      <th>lang</th>\n",
       "      <th>content</th>\n",
       "      <th>location</th>\n",
       "    </tr>\n",
       "  </thead>\n",
       "  <tbody>\n",
       "    <tr>\n",
       "      <th>0</th>\n",
       "      <td>0</td>\n",
       "      <td>en</td>\n",
       "      <td>@Futuball_io Very good project \\n@ronibd_raj \\...</td>\n",
       "      <td>NaN</td>\n",
       "    </tr>\n",
       "    <tr>\n",
       "      <th>2</th>\n",
       "      <td>1</td>\n",
       "      <td>en</td>\n",
       "      <td>@ikkanomics Scnrio. Worldcup Ind Vs SA:Cricket...</td>\n",
       "      <td>NaN</td>\n",
       "    </tr>\n",
       "  </tbody>\n",
       "</table>\n",
       "</div>"
      ],
      "text/plain": [
       "   ID lang                                            content  location\n",
       "0   0   en  @Futuball_io Very good project \\n@ronibd_raj \\...       NaN\n",
       "2   1   en  @ikkanomics Scnrio. Worldcup Ind Vs SA:Cricket...       NaN"
      ]
     },
     "execution_count": 17,
     "metadata": {},
     "output_type": "execute_result"
    }
   ],
   "source": [
    "df_en_tweets.head(2)"
   ]
  },
  {
   "cell_type": "markdown",
   "metadata": {},
   "source": [
    "### Clean text content"
   ]
  },
  {
   "cell_type": "markdown",
   "metadata": {},
   "source": [
    "#### clean special characters and whitespaces"
   ]
  },
  {
   "cell_type": "code",
   "execution_count": 18,
   "metadata": {},
   "outputs": [
    {
     "name": "stderr",
     "output_type": "stream",
     "text": [
      "C:\\Users\\kasia\\AppData\\Local\\Temp\\ipykernel_13160\\2167121432.py:21: FutureWarning: The default value of regex will change from True to False in a future version. In addition, single character regular expressions will *not* be treated as literal strings when regex=True.\n",
      "  df['content_clean_1'] = df['content_clean_1'].str.replace(sign, '')\n",
      "C:\\Users\\kasia\\AppData\\Local\\Temp\\ipykernel_13160\\2167121432.py:21: FutureWarning: The default value of regex will change from True to False in a future version. In addition, single character regular expressions will *not* be treated as literal strings when regex=True.\n",
      "  df['content_clean_1'] = df['content_clean_1'].str.replace(sign, '')\n"
     ]
    }
   ],
   "source": [
    "df_list =  [df_pl_tweets, df_en_tweets]\n",
    "\n",
    "white_spaces = [\"\\r\", \"\\n\",\"\\t\", \"    \"]\n",
    "punctuation_signs = list(\"?:!.,;\")\n",
    "special_characters = list(\"@#\")\n",
    "\n",
    "for df in df_list:\n",
    "\n",
    "    df['content_clean_1'] = df['content']\n",
    "\n",
    "    # whitespaces\n",
    "    for char in white_spaces:\n",
    "        df['content_clean_1'] = df['content_clean_1'].str.replace(char, \" \")\n",
    "\n",
    "    # quotation marks\n",
    "    df['content_clean_1'] = df['content_clean_1'].str.replace('\"', '')\n",
    "\n",
    "\n",
    "    # puncuation signs\n",
    "    for sign in punctuation_signs:\n",
    "        df['content_clean_1'] = df['content_clean_1'].str.replace(sign, '')"
   ]
  },
  {
   "cell_type": "code",
   "execution_count": 19,
   "metadata": {},
   "outputs": [
    {
     "data": {
      "text/plain": [
       "0    Patrząc po dzisiejszym twitterze brak powołani...\n",
       "1                        awieeee https//tco/2g9JCV08Fq\n",
       "2    -Brak większej liczby reprezentacji choćby tyc...\n",
       "Name: content_clean_1, dtype: object"
      ]
     },
     "execution_count": 19,
     "metadata": {},
     "output_type": "execute_result"
    }
   ],
   "source": [
    "df_pl_tweets['content_clean_1'].head(3)"
   ]
  },
  {
   "cell_type": "markdown",
   "metadata": {},
   "source": [
    "#### clean hashtags and name tagged users"
   ]
  },
  {
   "cell_type": "code",
   "execution_count": 20,
   "metadata": {},
   "outputs": [
    {
     "name": "stderr",
     "output_type": "stream",
     "text": [
      "C:\\Users\\kasia\\AppData\\Local\\Temp\\ipykernel_13160\\3938201535.py:7: FutureWarning: The default value of regex will change from True to False in a future version.\n",
      "  df['content_clean_2'] = df['content_clean_1'].str.replace(pat=hashtag_regex, repl= \"\")\n",
      "C:\\Users\\kasia\\AppData\\Local\\Temp\\ipykernel_13160\\3938201535.py:8: FutureWarning: The default value of regex will change from True to False in a future version.\n",
      "  df['content_clean_2'] = df['content_clean_2'].str.replace(pat=tag_regex, repl= \"\")\n",
      "C:\\Users\\kasia\\AppData\\Local\\Temp\\ipykernel_13160\\3938201535.py:7: FutureWarning: The default value of regex will change from True to False in a future version.\n",
      "  df['content_clean_2'] = df['content_clean_1'].str.replace(pat=hashtag_regex, repl= \"\")\n",
      "C:\\Users\\kasia\\AppData\\Local\\Temp\\ipykernel_13160\\3938201535.py:8: FutureWarning: The default value of regex will change from True to False in a future version.\n",
      "  df['content_clean_2'] = df['content_clean_2'].str.replace(pat=tag_regex, repl= \"\")\n"
     ]
    }
   ],
   "source": [
    "df_list =  [df_pl_tweets, df_en_tweets]\n",
    "\n",
    "hashtag_regex = \"(#)(((\\S)|(\\d))*)\"\n",
    "tag_regex = \"(@)(((\\S)|(\\d))*)\"\n",
    "\n",
    "for df in df_list:\n",
    "    df['content_clean_2'] = df['content_clean_1'].str.replace(pat=hashtag_regex, repl= \"\")\n",
    "    df['content_clean_2'] = df['content_clean_2'].str.replace(pat=tag_regex, repl= \"\")"
   ]
  },
  {
   "cell_type": "code",
   "execution_count": 21,
   "metadata": {},
   "outputs": [
    {
     "data": {
      "text/plain": [
       "0    Patrząc po dzisiejszym twitterze brak powołani...\n",
       "1                        awieeee https//tco/2g9JCV08Fq\n",
       "2    -Brak większej liczby reprezentacji choćby tyc...\n",
       "Name: content_clean_2, dtype: object"
      ]
     },
     "execution_count": 21,
     "metadata": {},
     "output_type": "execute_result"
    }
   ],
   "source": [
    "df_pl_tweets['content_clean_2'].head(3)"
   ]
  },
  {
   "cell_type": "code",
   "execution_count": 22,
   "metadata": {},
   "outputs": [
    {
     "data": {
      "text/plain": [
       "0                         Very good project           \n",
       "2     Scnrio Worldcup Ind Vs SACricket me Gautam Ga...\n",
       "3       In the meantime  is building an empire with   \n",
       "Name: content_clean_2, dtype: object"
      ]
     },
     "execution_count": 22,
     "metadata": {},
     "output_type": "execute_result"
    }
   ],
   "source": [
    "df_en_tweets['content_clean_2'].head(3)"
   ]
  },
  {
   "cell_type": "markdown",
   "metadata": {},
   "source": [
    "#### clean emojis"
   ]
  },
  {
   "cell_type": "code",
   "execution_count": 23,
   "metadata": {},
   "outputs": [],
   "source": [
    "import re"
   ]
  },
  {
   "cell_type": "code",
   "execution_count": 24,
   "metadata": {},
   "outputs": [],
   "source": [
    "\n",
    "emoji_regex = re.compile(\"[\"\n",
    "        u\"\\U0001F600-\\U0001F64F\"  # emoticons\n",
    "        u\"\\U0001F300-\\U0001F5FF\"  # symbols & pictographs\n",
    "        u\"\\U0001F680-\\U0001F6FF\"  # transport & map symbols\n",
    "        u\"\\U0001F1E0-\\U0001F1FF\"  # flags (iOS)\n",
    "        u\"\\U00002500-\\U00002BEF\"  # chinese char\n",
    "        u\"\\U00002702-\\U000027B0\"\n",
    "        u\"\\U00002702-\\U000027B0\"\n",
    "        u\"\\U000024C2-\\U0001F251\"\n",
    "        u\"\\U0001f926-\\U0001f937\"\n",
    "        u\"\\U00010000-\\U0010ffff\"\n",
    "        u\"\\u2640-\\u2642\" \n",
    "        u\"\\u2600-\\u2B55\"\n",
    "        u\"\\u200d\"\n",
    "        u\"\\u23cf\"\n",
    "        u\"\\u23e9\"\n",
    "        u\"\\u231a\"\n",
    "        u\"\\ufe0f\"  # dingbats\n",
    "        u\"\\u3030\"\n",
    "                      \"]+\", re.UNICODE)"
   ]
  },
  {
   "cell_type": "code",
   "execution_count": 25,
   "metadata": {},
   "outputs": [],
   "source": [
    "df_list =  [df_pl_tweets, df_en_tweets]\n",
    "\n",
    "for df in df_list:\n",
    "    df['content_clean_3'] = df['content_clean_2'].str.replace(pat=emoji_regex, repl= \" \")"
   ]
  },
  {
   "cell_type": "code",
   "execution_count": 26,
   "metadata": {},
   "outputs": [
    {
     "data": {
      "text/plain": [
       "0                         Very good project           \n",
       "2     Scnrio Worldcup Ind Vs SACricket me Gautam Ga...\n",
       "3       In the meantime  is building an empire with   \n",
       "Name: content_clean_3, dtype: object"
      ]
     },
     "execution_count": 26,
     "metadata": {},
     "output_type": "execute_result"
    }
   ],
   "source": [
    "df_en_tweets['content_clean_3'].head(3)"
   ]
  },
  {
   "cell_type": "code",
   "execution_count": 27,
   "metadata": {},
   "outputs": [
    {
     "data": {
      "text/html": [
       "<div>\n",
       "<style scoped>\n",
       "    .dataframe tbody tr th:only-of-type {\n",
       "        vertical-align: middle;\n",
       "    }\n",
       "\n",
       "    .dataframe tbody tr th {\n",
       "        vertical-align: top;\n",
       "    }\n",
       "\n",
       "    .dataframe thead th {\n",
       "        text-align: right;\n",
       "    }\n",
       "</style>\n",
       "<table border=\"1\" class=\"dataframe\">\n",
       "  <thead>\n",
       "    <tr style=\"text-align: right;\">\n",
       "      <th></th>\n",
       "      <th>ID</th>\n",
       "      <th>lang</th>\n",
       "      <th>content</th>\n",
       "      <th>location</th>\n",
       "      <th>content_clean_1</th>\n",
       "      <th>content_clean_2</th>\n",
       "      <th>content_clean_3</th>\n",
       "    </tr>\n",
       "  </thead>\n",
       "  <tbody>\n",
       "    <tr>\n",
       "      <th>7681</th>\n",
       "      <td>7632</td>\n",
       "      <td>en</td>\n",
       "      <td>@fifaworldcup_fr Cameroun</td>\n",
       "      <td>742.0</td>\n",
       "      <td>@fifaworldcup_fr Cameroun</td>\n",
       "      <td>Cameroun</td>\n",
       "      <td>Cameroun</td>\n",
       "    </tr>\n",
       "    <tr>\n",
       "      <th>10600</th>\n",
       "      <td>10532</td>\n",
       "      <td>en</td>\n",
       "      <td>The only positive from both defeat is that @ba...</td>\n",
       "      <td>1732.0</td>\n",
       "      <td>The only positive from both defeat is that @ba...</td>\n",
       "      <td>The only positive from both defeat is that  wi...</td>\n",
       "      <td>The only positive from both defeat is that  wi...</td>\n",
       "    </tr>\n",
       "    <tr>\n",
       "      <th>18845</th>\n",
       "      <td>18719</td>\n",
       "      <td>en</td>\n",
       "      <td>@Buckleyvilla @Johnsmith2553h @hassanbucheeri ...</td>\n",
       "      <td>NaN</td>\n",
       "      <td>@Buckleyvilla @Johnsmith2553h @hassanbucheeri ...</td>\n",
       "      <td>Are 18 year olds free to love 14 year ol...</td>\n",
       "      <td>Are 18 year olds free to love 14 year ol...</td>\n",
       "    </tr>\n",
       "    <tr>\n",
       "      <th>3452</th>\n",
       "      <td>3430</td>\n",
       "      <td>en</td>\n",
       "      <td>@cryptowilson_ @10KWorldCup @Element_Market 0K...</td>\n",
       "      <td>NaN</td>\n",
       "      <td>@cryptowilson_ @10KWorldCup @Element_Market 0K...</td>\n",
       "      <td>0K WorldCup NB</td>\n",
       "      <td>0K WorldCup NB</td>\n",
       "    </tr>\n",
       "    <tr>\n",
       "      <th>256</th>\n",
       "      <td>252</td>\n",
       "      <td>en</td>\n",
       "      <td>Vinicius names five countries that can win tou...</td>\n",
       "      <td>1883.0</td>\n",
       "      <td>Vinicius names five countries that can win tou...</td>\n",
       "      <td>Vinicius names five countries that can win tou...</td>\n",
       "      <td>Vinicius names five countries that can win tou...</td>\n",
       "    </tr>\n",
       "  </tbody>\n",
       "</table>\n",
       "</div>"
      ],
      "text/plain": [
       "          ID lang                                            content  \\\n",
       "7681    7632   en                          @fifaworldcup_fr Cameroun   \n",
       "10600  10532   en  The only positive from both defeat is that @ba...   \n",
       "18845  18719   en  @Buckleyvilla @Johnsmith2553h @hassanbucheeri ...   \n",
       "3452    3430   en  @cryptowilson_ @10KWorldCup @Element_Market 0K...   \n",
       "256      252   en  Vinicius names five countries that can win tou...   \n",
       "\n",
       "       location                                    content_clean_1  \\\n",
       "7681      742.0                          @fifaworldcup_fr Cameroun   \n",
       "10600    1732.0  The only positive from both defeat is that @ba...   \n",
       "18845       NaN  @Buckleyvilla @Johnsmith2553h @hassanbucheeri ...   \n",
       "3452        NaN  @cryptowilson_ @10KWorldCup @Element_Market 0K...   \n",
       "256      1883.0  Vinicius names five countries that can win tou...   \n",
       "\n",
       "                                         content_clean_2  \\\n",
       "7681                                            Cameroun   \n",
       "10600  The only positive from both defeat is that  wi...   \n",
       "18845        Are 18 year olds free to love 14 year ol...   \n",
       "3452                                      0K WorldCup NB   \n",
       "256    Vinicius names five countries that can win tou...   \n",
       "\n",
       "                                         content_clean_3  \n",
       "7681                                            Cameroun  \n",
       "10600  The only positive from both defeat is that  wi...  \n",
       "18845        Are 18 year olds free to love 14 year ol...  \n",
       "3452                                      0K WorldCup NB  \n",
       "256    Vinicius names five countries that can win tou...  "
      ]
     },
     "execution_count": 27,
     "metadata": {},
     "output_type": "execute_result"
    }
   ],
   "source": [
    "df_en_tweets.sample(5)"
   ]
  },
  {
   "cell_type": "code",
   "execution_count": 28,
   "metadata": {},
   "outputs": [
    {
     "data": {
      "text/plain": [
       "0    Patrząc po dzisiejszym twitterze brak powołani...\n",
       "1                        awieeee https//tco/2g9JCV08Fq\n",
       "2    -Brak większej liczby reprezentacji choćby tyc...\n",
       "Name: content_clean_3, dtype: object"
      ]
     },
     "execution_count": 28,
     "metadata": {},
     "output_type": "execute_result"
    }
   ],
   "source": [
    "df_pl_tweets['content_clean_3'].head(3)"
   ]
  },
  {
   "cell_type": "code",
   "execution_count": 29,
   "metadata": {},
   "outputs": [
    {
     "data": {
      "text/html": [
       "<div>\n",
       "<style scoped>\n",
       "    .dataframe tbody tr th:only-of-type {\n",
       "        vertical-align: middle;\n",
       "    }\n",
       "\n",
       "    .dataframe tbody tr th {\n",
       "        vertical-align: top;\n",
       "    }\n",
       "\n",
       "    .dataframe thead th {\n",
       "        text-align: right;\n",
       "    }\n",
       "</style>\n",
       "<table border=\"1\" class=\"dataframe\">\n",
       "  <thead>\n",
       "    <tr style=\"text-align: right;\">\n",
       "      <th></th>\n",
       "      <th>ID</th>\n",
       "      <th>lang</th>\n",
       "      <th>content</th>\n",
       "      <th>location</th>\n",
       "      <th>content_clean_1</th>\n",
       "      <th>content_clean_2</th>\n",
       "      <th>content_clean_3</th>\n",
       "    </tr>\n",
       "  </thead>\n",
       "  <tbody>\n",
       "    <tr>\n",
       "      <th>7844</th>\n",
       "      <td>7843</td>\n",
       "      <td>pl</td>\n",
       "      <td>@ZiobroPL @MS_GOV_PL 7 długich lat.....</td>\n",
       "      <td>1729.0</td>\n",
       "      <td>@ZiobroPL @MS_GOV_PL 7 długich lat</td>\n",
       "      <td>7 długich lat</td>\n",
       "      <td>7 długich lat</td>\n",
       "    </tr>\n",
       "    <tr>\n",
       "      <th>536</th>\n",
       "      <td>535</td>\n",
       "      <td>pl</td>\n",
       "      <td>@mati_stanczyk No to mundial oglądamy na zagra...</td>\n",
       "      <td>750.0</td>\n",
       "      <td>@mati_stanczyk No to mundial oglądamy na zagra...</td>\n",
       "      <td>No to mundial oglądamy na zagranicznych trans...</td>\n",
       "      <td>No to mundial oglądamy na zagranicznych trans...</td>\n",
       "    </tr>\n",
       "    <tr>\n",
       "      <th>16609</th>\n",
       "      <td>16607</td>\n",
       "      <td>pl</td>\n",
       "      <td>220 miliardów zielonych na mundial, który bard...</td>\n",
       "      <td>1729.0</td>\n",
       "      <td>220 miliardów zielonych na mundial który bardz...</td>\n",
       "      <td>220 miliardów zielonych na mundial który bardz...</td>\n",
       "      <td>220 miliardów zielonych na mundial który bardz...</td>\n",
       "    </tr>\n",
       "    <tr>\n",
       "      <th>18706</th>\n",
       "      <td>18704</td>\n",
       "      <td>pl</td>\n",
       "      <td>@umajone @nietabeata Mnie się wydaje, że 8 z p...</td>\n",
       "      <td>NaN</td>\n",
       "      <td>@umajone @nietabeata Mnie się wydaje że 8 z pr...</td>\n",
       "      <td>Mnie się wydaje że 8 z przodu bo inaczej wyg...</td>\n",
       "      <td>Mnie się wydaje że 8 z przodu bo inaczej wyg...</td>\n",
       "    </tr>\n",
       "    <tr>\n",
       "      <th>8585</th>\n",
       "      <td>8584</td>\n",
       "      <td>pl</td>\n",
       "      <td>@Bochen_II Eh słabo 😩 chciałbym zobaczyć Rataj...</td>\n",
       "      <td>NaN</td>\n",
       "      <td>@Bochen_II Eh słabo 😩 chciałbym zobaczyć Rataj...</td>\n",
       "      <td>Eh słabo 😩 chciałbym zobaczyć Ratajskiego z 2...</td>\n",
       "      <td>Eh słabo   chciałbym zobaczyć Ratajskiego z 2...</td>\n",
       "    </tr>\n",
       "  </tbody>\n",
       "</table>\n",
       "</div>"
      ],
      "text/plain": [
       "          ID lang                                            content  \\\n",
       "7844    7843   pl            @ZiobroPL @MS_GOV_PL 7 długich lat.....   \n",
       "536      535   pl  @mati_stanczyk No to mundial oglądamy na zagra...   \n",
       "16609  16607   pl  220 miliardów zielonych na mundial, który bard...   \n",
       "18706  18704   pl  @umajone @nietabeata Mnie się wydaje, że 8 z p...   \n",
       "8585    8584   pl  @Bochen_II Eh słabo 😩 chciałbym zobaczyć Rataj...   \n",
       "\n",
       "       location                                    content_clean_1  \\\n",
       "7844     1729.0                 @ZiobroPL @MS_GOV_PL 7 długich lat   \n",
       "536       750.0  @mati_stanczyk No to mundial oglądamy na zagra...   \n",
       "16609    1729.0  220 miliardów zielonych na mundial który bardz...   \n",
       "18706       NaN  @umajone @nietabeata Mnie się wydaje że 8 z pr...   \n",
       "8585        NaN  @Bochen_II Eh słabo 😩 chciałbym zobaczyć Rataj...   \n",
       "\n",
       "                                         content_clean_2  \\\n",
       "7844                                       7 długich lat   \n",
       "536     No to mundial oglądamy na zagranicznych trans...   \n",
       "16609  220 miliardów zielonych na mundial który bardz...   \n",
       "18706    Mnie się wydaje że 8 z przodu bo inaczej wyg...   \n",
       "8585    Eh słabo 😩 chciałbym zobaczyć Ratajskiego z 2...   \n",
       "\n",
       "                                         content_clean_3  \n",
       "7844                                       7 długich lat  \n",
       "536     No to mundial oglądamy na zagranicznych trans...  \n",
       "16609  220 miliardów zielonych na mundial który bardz...  \n",
       "18706    Mnie się wydaje że 8 z przodu bo inaczej wyg...  \n",
       "8585    Eh słabo   chciałbym zobaczyć Ratajskiego z 2...  "
      ]
     },
     "execution_count": 29,
     "metadata": {},
     "output_type": "execute_result"
    }
   ],
   "source": [
    "df_pl_tweets.sample(5)"
   ]
  },
  {
   "cell_type": "markdown",
   "metadata": {},
   "source": [
    "#### Remove all 's from en tweets and quotations from polish tweets"
   ]
  },
  {
   "cell_type": "code",
   "execution_count": 30,
   "metadata": {},
   "outputs": [],
   "source": [
    "df_list =  [df_pl_tweets, df_en_tweets]\n",
    "\n",
    "df_en_tweets['content_clean_3'] = df_en_tweets['content_clean_3'].str.replace(\"’s\", \"\")\n",
    "\n",
    "for df in df_list:\n",
    "    df['content_clean_4'] = df['content_clean_3'].str.replace(\"'\", \"\")"
   ]
  },
  {
   "cell_type": "code",
   "execution_count": 31,
   "metadata": {},
   "outputs": [
    {
     "data": {
      "text/html": [
       "<div>\n",
       "<style scoped>\n",
       "    .dataframe tbody tr th:only-of-type {\n",
       "        vertical-align: middle;\n",
       "    }\n",
       "\n",
       "    .dataframe tbody tr th {\n",
       "        vertical-align: top;\n",
       "    }\n",
       "\n",
       "    .dataframe thead th {\n",
       "        text-align: right;\n",
       "    }\n",
       "</style>\n",
       "<table border=\"1\" class=\"dataframe\">\n",
       "  <thead>\n",
       "    <tr style=\"text-align: right;\">\n",
       "      <th></th>\n",
       "      <th>ID</th>\n",
       "      <th>lang</th>\n",
       "      <th>content</th>\n",
       "      <th>location</th>\n",
       "      <th>content_clean_1</th>\n",
       "      <th>content_clean_2</th>\n",
       "      <th>content_clean_3</th>\n",
       "      <th>content_clean_4</th>\n",
       "    </tr>\n",
       "  </thead>\n",
       "  <tbody>\n",
       "    <tr>\n",
       "      <th>0</th>\n",
       "      <td>0</td>\n",
       "      <td>en</td>\n",
       "      <td>@Futuball_io Very good project \\n@ronibd_raj \\...</td>\n",
       "      <td>NaN</td>\n",
       "      <td>@Futuball_io Very good project  @ronibd_raj  @...</td>\n",
       "      <td>Very good project</td>\n",
       "      <td>Very good project</td>\n",
       "      <td>Very good project</td>\n",
       "    </tr>\n",
       "    <tr>\n",
       "      <th>2</th>\n",
       "      <td>1</td>\n",
       "      <td>en</td>\n",
       "      <td>@ikkanomics Scnrio. Worldcup Ind Vs SA:Cricket...</td>\n",
       "      <td>NaN</td>\n",
       "      <td>@ikkanomics Scnrio Worldcup Ind Vs SACricket m...</td>\n",
       "      <td>Scnrio Worldcup Ind Vs SACricket me Gautam Ga...</td>\n",
       "      <td>Scnrio Worldcup Ind Vs SACricket me Gautam Ga...</td>\n",
       "      <td>Scnrio Worldcup Ind Vs SACricket me Gautam Ga...</td>\n",
       "    </tr>\n",
       "    <tr>\n",
       "      <th>3</th>\n",
       "      <td>2</td>\n",
       "      <td>en</td>\n",
       "      <td>@OGDfarmer In the meantime @flufworld is build...</td>\n",
       "      <td>NaN</td>\n",
       "      <td>@OGDfarmer In the meantime @flufworld is build...</td>\n",
       "      <td>In the meantime  is building an empire with</td>\n",
       "      <td>In the meantime  is building an empire with</td>\n",
       "      <td>In the meantime  is building an empire with</td>\n",
       "    </tr>\n",
       "    <tr>\n",
       "      <th>4</th>\n",
       "      <td>3</td>\n",
       "      <td>en</td>\n",
       "      <td>.@UN .@UNHumanRights .@FIFAcom .@FIFAWorldCup\\...</td>\n",
       "      <td>1418.0</td>\n",
       "      <td>@UN @UNHumanRights @FIFAcom @FIFAWorldCup The ...</td>\n",
       "      <td>The  should never be awarded to countries ...</td>\n",
       "      <td>The  should never be awarded to countries ...</td>\n",
       "      <td>The  should never be awarded to countries ...</td>\n",
       "    </tr>\n",
       "    <tr>\n",
       "      <th>5</th>\n",
       "      <td>4</td>\n",
       "      <td>en</td>\n",
       "      <td>Some serious questions to be asked if @England...</td>\n",
       "      <td>2075.0</td>\n",
       "      <td>Some serious questions to be asked if @England...</td>\n",
       "      <td>Some serious questions to be asked if  don’t g...</td>\n",
       "      <td>Some serious questions to be asked if  don’t g...</td>\n",
       "      <td>Some serious questions to be asked if  don’t g...</td>\n",
       "    </tr>\n",
       "  </tbody>\n",
       "</table>\n",
       "</div>"
      ],
      "text/plain": [
       "   ID lang                                            content  location  \\\n",
       "0   0   en  @Futuball_io Very good project \\n@ronibd_raj \\...       NaN   \n",
       "2   1   en  @ikkanomics Scnrio. Worldcup Ind Vs SA:Cricket...       NaN   \n",
       "3   2   en  @OGDfarmer In the meantime @flufworld is build...       NaN   \n",
       "4   3   en  .@UN .@UNHumanRights .@FIFAcom .@FIFAWorldCup\\...    1418.0   \n",
       "5   4   en  Some serious questions to be asked if @England...    2075.0   \n",
       "\n",
       "                                     content_clean_1  \\\n",
       "0  @Futuball_io Very good project  @ronibd_raj  @...   \n",
       "2  @ikkanomics Scnrio Worldcup Ind Vs SACricket m...   \n",
       "3  @OGDfarmer In the meantime @flufworld is build...   \n",
       "4  @UN @UNHumanRights @FIFAcom @FIFAWorldCup The ...   \n",
       "5  Some serious questions to be asked if @England...   \n",
       "\n",
       "                                     content_clean_2  \\\n",
       "0                       Very good project              \n",
       "2   Scnrio Worldcup Ind Vs SACricket me Gautam Ga...   \n",
       "3     In the meantime  is building an empire with      \n",
       "4      The  should never be awarded to countries ...   \n",
       "5  Some serious questions to be asked if  don’t g...   \n",
       "\n",
       "                                     content_clean_3  \\\n",
       "0                       Very good project              \n",
       "2   Scnrio Worldcup Ind Vs SACricket me Gautam Ga...   \n",
       "3     In the meantime  is building an empire with      \n",
       "4      The  should never be awarded to countries ...   \n",
       "5  Some serious questions to be asked if  don’t g...   \n",
       "\n",
       "                                     content_clean_4  \n",
       "0                       Very good project             \n",
       "2   Scnrio Worldcup Ind Vs SACricket me Gautam Ga...  \n",
       "3     In the meantime  is building an empire with     \n",
       "4      The  should never be awarded to countries ...  \n",
       "5  Some serious questions to be asked if  don’t g...  "
      ]
     },
     "execution_count": 31,
     "metadata": {},
     "output_type": "execute_result"
    }
   ],
   "source": [
    "df_en_tweets.head()"
   ]
  },
  {
   "cell_type": "markdown",
   "metadata": {},
   "source": [
    "#### Make all lowercase"
   ]
  },
  {
   "cell_type": "code",
   "execution_count": 32,
   "metadata": {},
   "outputs": [],
   "source": [
    "for df in df_list:\n",
    "    df['content_clean_5'] = df['content_clean_4'].str.lower()"
   ]
  },
  {
   "cell_type": "code",
   "execution_count": 33,
   "metadata": {},
   "outputs": [
    {
     "data": {
      "text/html": [
       "<div>\n",
       "<style scoped>\n",
       "    .dataframe tbody tr th:only-of-type {\n",
       "        vertical-align: middle;\n",
       "    }\n",
       "\n",
       "    .dataframe tbody tr th {\n",
       "        vertical-align: top;\n",
       "    }\n",
       "\n",
       "    .dataframe thead th {\n",
       "        text-align: right;\n",
       "    }\n",
       "</style>\n",
       "<table border=\"1\" class=\"dataframe\">\n",
       "  <thead>\n",
       "    <tr style=\"text-align: right;\">\n",
       "      <th></th>\n",
       "      <th>ID</th>\n",
       "      <th>lang</th>\n",
       "      <th>content</th>\n",
       "      <th>location</th>\n",
       "      <th>content_clean_1</th>\n",
       "      <th>content_clean_2</th>\n",
       "      <th>content_clean_3</th>\n",
       "      <th>content_clean_4</th>\n",
       "      <th>content_clean_5</th>\n",
       "    </tr>\n",
       "  </thead>\n",
       "  <tbody>\n",
       "    <tr>\n",
       "      <th>0</th>\n",
       "      <td>0</td>\n",
       "      <td>en</td>\n",
       "      <td>@Futuball_io Very good project \\n@ronibd_raj \\...</td>\n",
       "      <td>NaN</td>\n",
       "      <td>@Futuball_io Very good project  @ronibd_raj  @...</td>\n",
       "      <td>Very good project</td>\n",
       "      <td>Very good project</td>\n",
       "      <td>Very good project</td>\n",
       "      <td>very good project</td>\n",
       "    </tr>\n",
       "    <tr>\n",
       "      <th>2</th>\n",
       "      <td>1</td>\n",
       "      <td>en</td>\n",
       "      <td>@ikkanomics Scnrio. Worldcup Ind Vs SA:Cricket...</td>\n",
       "      <td>NaN</td>\n",
       "      <td>@ikkanomics Scnrio Worldcup Ind Vs SACricket m...</td>\n",
       "      <td>Scnrio Worldcup Ind Vs SACricket me Gautam Ga...</td>\n",
       "      <td>Scnrio Worldcup Ind Vs SACricket me Gautam Ga...</td>\n",
       "      <td>Scnrio Worldcup Ind Vs SACricket me Gautam Ga...</td>\n",
       "      <td>scnrio worldcup ind vs sacricket me gautam ga...</td>\n",
       "    </tr>\n",
       "  </tbody>\n",
       "</table>\n",
       "</div>"
      ],
      "text/plain": [
       "   ID lang                                            content  location  \\\n",
       "0   0   en  @Futuball_io Very good project \\n@ronibd_raj \\...       NaN   \n",
       "2   1   en  @ikkanomics Scnrio. Worldcup Ind Vs SA:Cricket...       NaN   \n",
       "\n",
       "                                     content_clean_1  \\\n",
       "0  @Futuball_io Very good project  @ronibd_raj  @...   \n",
       "2  @ikkanomics Scnrio Worldcup Ind Vs SACricket m...   \n",
       "\n",
       "                                     content_clean_2  \\\n",
       "0                       Very good project              \n",
       "2   Scnrio Worldcup Ind Vs SACricket me Gautam Ga...   \n",
       "\n",
       "                                     content_clean_3  \\\n",
       "0                       Very good project              \n",
       "2   Scnrio Worldcup Ind Vs SACricket me Gautam Ga...   \n",
       "\n",
       "                                     content_clean_4  \\\n",
       "0                       Very good project              \n",
       "2   Scnrio Worldcup Ind Vs SACricket me Gautam Ga...   \n",
       "\n",
       "                                     content_clean_5  \n",
       "0                       very good project             \n",
       "2   scnrio worldcup ind vs sacricket me gautam ga...  "
      ]
     },
     "execution_count": 33,
     "metadata": {},
     "output_type": "execute_result"
    }
   ],
   "source": [
    "df_en_tweets.head(2)"
   ]
  },
  {
   "cell_type": "code",
   "execution_count": 34,
   "metadata": {},
   "outputs": [
    {
     "data": {
      "text/html": [
       "<div>\n",
       "<style scoped>\n",
       "    .dataframe tbody tr th:only-of-type {\n",
       "        vertical-align: middle;\n",
       "    }\n",
       "\n",
       "    .dataframe tbody tr th {\n",
       "        vertical-align: top;\n",
       "    }\n",
       "\n",
       "    .dataframe thead th {\n",
       "        text-align: right;\n",
       "    }\n",
       "</style>\n",
       "<table border=\"1\" class=\"dataframe\">\n",
       "  <thead>\n",
       "    <tr style=\"text-align: right;\">\n",
       "      <th></th>\n",
       "      <th>ID</th>\n",
       "      <th>lang</th>\n",
       "      <th>content</th>\n",
       "      <th>location</th>\n",
       "      <th>content_clean_1</th>\n",
       "      <th>content_clean_2</th>\n",
       "      <th>content_clean_3</th>\n",
       "      <th>content_clean_4</th>\n",
       "      <th>content_clean_5</th>\n",
       "    </tr>\n",
       "  </thead>\n",
       "  <tbody>\n",
       "    <tr>\n",
       "      <th>0</th>\n",
       "      <td>0</td>\n",
       "      <td>pl</td>\n",
       "      <td>Patrząc po dzisiejszym twitterze brak powołani...</td>\n",
       "      <td>462.0</td>\n",
       "      <td>Patrząc po dzisiejszym twitterze brak powołani...</td>\n",
       "      <td>Patrząc po dzisiejszym twitterze brak powołani...</td>\n",
       "      <td>Patrząc po dzisiejszym twitterze brak powołani...</td>\n",
       "      <td>Patrząc po dzisiejszym twitterze brak powołani...</td>\n",
       "      <td>patrząc po dzisiejszym twitterze brak powołani...</td>\n",
       "    </tr>\n",
       "    <tr>\n",
       "      <th>1</th>\n",
       "      <td>1</td>\n",
       "      <td>pl</td>\n",
       "      <td>awieeee https://t.co/2g9JCV08Fq</td>\n",
       "      <td>NaN</td>\n",
       "      <td>awieeee https//tco/2g9JCV08Fq</td>\n",
       "      <td>awieeee https//tco/2g9JCV08Fq</td>\n",
       "      <td>awieeee https//tco/2g9JCV08Fq</td>\n",
       "      <td>awieeee https//tco/2g9JCV08Fq</td>\n",
       "      <td>awieeee https//tco/2g9jcv08fq</td>\n",
       "    </tr>\n",
       "  </tbody>\n",
       "</table>\n",
       "</div>"
      ],
      "text/plain": [
       "   ID lang                                            content  location  \\\n",
       "0   0   pl  Patrząc po dzisiejszym twitterze brak powołani...     462.0   \n",
       "1   1   pl                    awieeee https://t.co/2g9JCV08Fq       NaN   \n",
       "\n",
       "                                     content_clean_1  \\\n",
       "0  Patrząc po dzisiejszym twitterze brak powołani...   \n",
       "1                      awieeee https//tco/2g9JCV08Fq   \n",
       "\n",
       "                                     content_clean_2  \\\n",
       "0  Patrząc po dzisiejszym twitterze brak powołani...   \n",
       "1                      awieeee https//tco/2g9JCV08Fq   \n",
       "\n",
       "                                     content_clean_3  \\\n",
       "0  Patrząc po dzisiejszym twitterze brak powołani...   \n",
       "1                      awieeee https//tco/2g9JCV08Fq   \n",
       "\n",
       "                                     content_clean_4  \\\n",
       "0  Patrząc po dzisiejszym twitterze brak powołani...   \n",
       "1                      awieeee https//tco/2g9JCV08Fq   \n",
       "\n",
       "                                     content_clean_5  \n",
       "0  patrząc po dzisiejszym twitterze brak powołani...  \n",
       "1                      awieeee https//tco/2g9jcv08fq  "
      ]
     },
     "execution_count": 34,
     "metadata": {},
     "output_type": "execute_result"
    }
   ],
   "source": [
    "df_pl_tweets.head(2)"
   ]
  },
  {
   "cell_type": "markdown",
   "metadata": {},
   "source": [
    "#### Lemmatize"
   ]
  },
  {
   "cell_type": "code",
   "execution_count": 35,
   "metadata": {},
   "outputs": [],
   "source": [
    "lemmatizer = WordNetLemmatizer()"
   ]
  },
  {
   "cell_type": "code",
   "execution_count": 36,
   "metadata": {},
   "outputs": [
    {
     "data": {
      "text/html": [
       "<div>\n",
       "<style scoped>\n",
       "    .dataframe tbody tr th:only-of-type {\n",
       "        vertical-align: middle;\n",
       "    }\n",
       "\n",
       "    .dataframe tbody tr th {\n",
       "        vertical-align: top;\n",
       "    }\n",
       "\n",
       "    .dataframe thead th {\n",
       "        text-align: right;\n",
       "    }\n",
       "</style>\n",
       "<table border=\"1\" class=\"dataframe\">\n",
       "  <thead>\n",
       "    <tr style=\"text-align: right;\">\n",
       "      <th></th>\n",
       "      <th>ID</th>\n",
       "      <th>lang</th>\n",
       "      <th>content</th>\n",
       "      <th>location</th>\n",
       "      <th>content_clean_1</th>\n",
       "      <th>content_clean_2</th>\n",
       "      <th>content_clean_3</th>\n",
       "      <th>content_clean_4</th>\n",
       "      <th>content_clean_5</th>\n",
       "    </tr>\n",
       "  </thead>\n",
       "  <tbody>\n",
       "    <tr>\n",
       "      <th>0</th>\n",
       "      <td>0</td>\n",
       "      <td>en</td>\n",
       "      <td>@Futuball_io Very good project \\n@ronibd_raj \\...</td>\n",
       "      <td>NaN</td>\n",
       "      <td>@Futuball_io Very good project  @ronibd_raj  @...</td>\n",
       "      <td>Very good project</td>\n",
       "      <td>Very good project</td>\n",
       "      <td>Very good project</td>\n",
       "      <td>very good project</td>\n",
       "    </tr>\n",
       "    <tr>\n",
       "      <th>2</th>\n",
       "      <td>1</td>\n",
       "      <td>en</td>\n",
       "      <td>@ikkanomics Scnrio. Worldcup Ind Vs SA:Cricket...</td>\n",
       "      <td>NaN</td>\n",
       "      <td>@ikkanomics Scnrio Worldcup Ind Vs SACricket m...</td>\n",
       "      <td>Scnrio Worldcup Ind Vs SACricket me Gautam Ga...</td>\n",
       "      <td>Scnrio Worldcup Ind Vs SACricket me Gautam Ga...</td>\n",
       "      <td>Scnrio Worldcup Ind Vs SACricket me Gautam Ga...</td>\n",
       "      <td>scnrio worldcup ind vs sacricket me gautam ga...</td>\n",
       "    </tr>\n",
       "    <tr>\n",
       "      <th>3</th>\n",
       "      <td>2</td>\n",
       "      <td>en</td>\n",
       "      <td>@OGDfarmer In the meantime @flufworld is build...</td>\n",
       "      <td>NaN</td>\n",
       "      <td>@OGDfarmer In the meantime @flufworld is build...</td>\n",
       "      <td>In the meantime  is building an empire with</td>\n",
       "      <td>In the meantime  is building an empire with</td>\n",
       "      <td>In the meantime  is building an empire with</td>\n",
       "      <td>in the meantime  is building an empire with</td>\n",
       "    </tr>\n",
       "    <tr>\n",
       "      <th>4</th>\n",
       "      <td>3</td>\n",
       "      <td>en</td>\n",
       "      <td>.@UN .@UNHumanRights .@FIFAcom .@FIFAWorldCup\\...</td>\n",
       "      <td>1418.0</td>\n",
       "      <td>@UN @UNHumanRights @FIFAcom @FIFAWorldCup The ...</td>\n",
       "      <td>The  should never be awarded to countries ...</td>\n",
       "      <td>The  should never be awarded to countries ...</td>\n",
       "      <td>The  should never be awarded to countries ...</td>\n",
       "      <td>the  should never be awarded to countries ...</td>\n",
       "    </tr>\n",
       "    <tr>\n",
       "      <th>5</th>\n",
       "      <td>4</td>\n",
       "      <td>en</td>\n",
       "      <td>Some serious questions to be asked if @England...</td>\n",
       "      <td>2075.0</td>\n",
       "      <td>Some serious questions to be asked if @England...</td>\n",
       "      <td>Some serious questions to be asked if  don’t g...</td>\n",
       "      <td>Some serious questions to be asked if  don’t g...</td>\n",
       "      <td>Some serious questions to be asked if  don’t g...</td>\n",
       "      <td>some serious questions to be asked if  don’t g...</td>\n",
       "    </tr>\n",
       "  </tbody>\n",
       "</table>\n",
       "</div>"
      ],
      "text/plain": [
       "   ID lang                                            content  location  \\\n",
       "0   0   en  @Futuball_io Very good project \\n@ronibd_raj \\...       NaN   \n",
       "2   1   en  @ikkanomics Scnrio. Worldcup Ind Vs SA:Cricket...       NaN   \n",
       "3   2   en  @OGDfarmer In the meantime @flufworld is build...       NaN   \n",
       "4   3   en  .@UN .@UNHumanRights .@FIFAcom .@FIFAWorldCup\\...    1418.0   \n",
       "5   4   en  Some serious questions to be asked if @England...    2075.0   \n",
       "\n",
       "                                     content_clean_1  \\\n",
       "0  @Futuball_io Very good project  @ronibd_raj  @...   \n",
       "2  @ikkanomics Scnrio Worldcup Ind Vs SACricket m...   \n",
       "3  @OGDfarmer In the meantime @flufworld is build...   \n",
       "4  @UN @UNHumanRights @FIFAcom @FIFAWorldCup The ...   \n",
       "5  Some serious questions to be asked if @England...   \n",
       "\n",
       "                                     content_clean_2  \\\n",
       "0                       Very good project              \n",
       "2   Scnrio Worldcup Ind Vs SACricket me Gautam Ga...   \n",
       "3     In the meantime  is building an empire with      \n",
       "4      The  should never be awarded to countries ...   \n",
       "5  Some serious questions to be asked if  don’t g...   \n",
       "\n",
       "                                     content_clean_3  \\\n",
       "0                       Very good project              \n",
       "2   Scnrio Worldcup Ind Vs SACricket me Gautam Ga...   \n",
       "3     In the meantime  is building an empire with      \n",
       "4      The  should never be awarded to countries ...   \n",
       "5  Some serious questions to be asked if  don’t g...   \n",
       "\n",
       "                                     content_clean_4  \\\n",
       "0                       Very good project              \n",
       "2   Scnrio Worldcup Ind Vs SACricket me Gautam Ga...   \n",
       "3     In the meantime  is building an empire with      \n",
       "4      The  should never be awarded to countries ...   \n",
       "5  Some serious questions to be asked if  don’t g...   \n",
       "\n",
       "                                     content_clean_5  \n",
       "0                       very good project             \n",
       "2   scnrio worldcup ind vs sacricket me gautam ga...  \n",
       "3     in the meantime  is building an empire with     \n",
       "4      the  should never be awarded to countries ...  \n",
       "5  some serious questions to be asked if  don’t g...  "
      ]
     },
     "execution_count": 36,
     "metadata": {},
     "output_type": "execute_result"
    }
   ],
   "source": [
    "df_en_tweets.head()"
   ]
  },
  {
   "cell_type": "markdown",
   "metadata": {},
   "source": [
    "#### Lemmatize and remove stopwords"
   ]
  },
  {
   "cell_type": "code",
   "execution_count": 37,
   "metadata": {},
   "outputs": [],
   "source": [
    "stop_words_pl = sw.get_stop_words(language=\"polish\")\n",
    "stop_words_en = sw.get_stop_words(language=\"english\")"
   ]
  },
  {
   "cell_type": "code",
   "execution_count": 38,
   "metadata": {},
   "outputs": [],
   "source": [
    "df_en_tweets['content_clean_6'] = df_en_tweets['content_clean_5']\n",
    "\n",
    "lemmatized_texts = []\n",
    "\n",
    "for row in df_en_tweets['content_clean_6']:\n",
    "    text = row\n",
    "    word_tokens = text.split(\" \")\n",
    "\n",
    "    lemmas  = []\n",
    "    lemmatized_text = []\n",
    "\n",
    "    for word in word_tokens:\n",
    "        if word not in stop_words_en:\n",
    "            lemmas.append(lemmatizer.lemmatize(word, pos = 'v'))\n",
    "\n",
    "    lemmatized_text = \" \".join(lemmas)\n",
    "\n",
    "    lemmatized_texts.append(lemmatized_text)\n",
    "    \n",
    "df_en_tweets['content_clean_6']= lemmatized_texts"
   ]
  },
  {
   "cell_type": "code",
   "execution_count": 39,
   "metadata": {},
   "outputs": [
    {
     "data": {
      "text/html": [
       "<div>\n",
       "<style scoped>\n",
       "    .dataframe tbody tr th:only-of-type {\n",
       "        vertical-align: middle;\n",
       "    }\n",
       "\n",
       "    .dataframe tbody tr th {\n",
       "        vertical-align: top;\n",
       "    }\n",
       "\n",
       "    .dataframe thead th {\n",
       "        text-align: right;\n",
       "    }\n",
       "</style>\n",
       "<table border=\"1\" class=\"dataframe\">\n",
       "  <thead>\n",
       "    <tr style=\"text-align: right;\">\n",
       "      <th></th>\n",
       "      <th>ID</th>\n",
       "      <th>lang</th>\n",
       "      <th>content</th>\n",
       "      <th>location</th>\n",
       "      <th>content_clean_1</th>\n",
       "      <th>content_clean_2</th>\n",
       "      <th>content_clean_3</th>\n",
       "      <th>content_clean_4</th>\n",
       "      <th>content_clean_5</th>\n",
       "      <th>content_clean_6</th>\n",
       "    </tr>\n",
       "  </thead>\n",
       "  <tbody>\n",
       "    <tr>\n",
       "      <th>0</th>\n",
       "      <td>0</td>\n",
       "      <td>en</td>\n",
       "      <td>@Futuball_io Very good project \\n@ronibd_raj \\...</td>\n",
       "      <td>NaN</td>\n",
       "      <td>@Futuball_io Very good project  @ronibd_raj  @...</td>\n",
       "      <td>Very good project</td>\n",
       "      <td>Very good project</td>\n",
       "      <td>Very good project</td>\n",
       "      <td>very good project</td>\n",
       "      <td>good project</td>\n",
       "    </tr>\n",
       "    <tr>\n",
       "      <th>2</th>\n",
       "      <td>1</td>\n",
       "      <td>en</td>\n",
       "      <td>@ikkanomics Scnrio. Worldcup Ind Vs SA:Cricket...</td>\n",
       "      <td>NaN</td>\n",
       "      <td>@ikkanomics Scnrio Worldcup Ind Vs SACricket m...</td>\n",
       "      <td>Scnrio Worldcup Ind Vs SACricket me Gautam Ga...</td>\n",
       "      <td>Scnrio Worldcup Ind Vs SACricket me Gautam Ga...</td>\n",
       "      <td>Scnrio Worldcup Ind Vs SACricket me Gautam Ga...</td>\n",
       "      <td>scnrio worldcup ind vs sacricket me gautam ga...</td>\n",
       "      <td>scnrio worldcup ind vs sacricket gautam gambh...</td>\n",
       "    </tr>\n",
       "    <tr>\n",
       "      <th>3</th>\n",
       "      <td>2</td>\n",
       "      <td>en</td>\n",
       "      <td>@OGDfarmer In the meantime @flufworld is build...</td>\n",
       "      <td>NaN</td>\n",
       "      <td>@OGDfarmer In the meantime @flufworld is build...</td>\n",
       "      <td>In the meantime  is building an empire with</td>\n",
       "      <td>In the meantime  is building an empire with</td>\n",
       "      <td>In the meantime  is building an empire with</td>\n",
       "      <td>in the meantime  is building an empire with</td>\n",
       "      <td>meantime  build empire</td>\n",
       "    </tr>\n",
       "    <tr>\n",
       "      <th>4</th>\n",
       "      <td>3</td>\n",
       "      <td>en</td>\n",
       "      <td>.@UN .@UNHumanRights .@FIFAcom .@FIFAWorldCup\\...</td>\n",
       "      <td>1418.0</td>\n",
       "      <td>@UN @UNHumanRights @FIFAcom @FIFAWorldCup The ...</td>\n",
       "      <td>The  should never be awarded to countries ...</td>\n",
       "      <td>The  should never be awarded to countries ...</td>\n",
       "      <td>The  should never be awarded to countries ...</td>\n",
       "      <td>the  should never be awarded to countries ...</td>\n",
       "      <td>never award countries regard  think will ...</td>\n",
       "    </tr>\n",
       "    <tr>\n",
       "      <th>5</th>\n",
       "      <td>4</td>\n",
       "      <td>en</td>\n",
       "      <td>Some serious questions to be asked if @England...</td>\n",
       "      <td>2075.0</td>\n",
       "      <td>Some serious questions to be asked if @England...</td>\n",
       "      <td>Some serious questions to be asked if  don’t g...</td>\n",
       "      <td>Some serious questions to be asked if  don’t g...</td>\n",
       "      <td>Some serious questions to be asked if  don’t g...</td>\n",
       "      <td>some serious questions to be asked if  don’t g...</td>\n",
       "      <td>serious question ask  don’t get sellout quarte...</td>\n",
       "    </tr>\n",
       "  </tbody>\n",
       "</table>\n",
       "</div>"
      ],
      "text/plain": [
       "   ID lang                                            content  location  \\\n",
       "0   0   en  @Futuball_io Very good project \\n@ronibd_raj \\...       NaN   \n",
       "2   1   en  @ikkanomics Scnrio. Worldcup Ind Vs SA:Cricket...       NaN   \n",
       "3   2   en  @OGDfarmer In the meantime @flufworld is build...       NaN   \n",
       "4   3   en  .@UN .@UNHumanRights .@FIFAcom .@FIFAWorldCup\\...    1418.0   \n",
       "5   4   en  Some serious questions to be asked if @England...    2075.0   \n",
       "\n",
       "                                     content_clean_1  \\\n",
       "0  @Futuball_io Very good project  @ronibd_raj  @...   \n",
       "2  @ikkanomics Scnrio Worldcup Ind Vs SACricket m...   \n",
       "3  @OGDfarmer In the meantime @flufworld is build...   \n",
       "4  @UN @UNHumanRights @FIFAcom @FIFAWorldCup The ...   \n",
       "5  Some serious questions to be asked if @England...   \n",
       "\n",
       "                                     content_clean_2  \\\n",
       "0                       Very good project              \n",
       "2   Scnrio Worldcup Ind Vs SACricket me Gautam Ga...   \n",
       "3     In the meantime  is building an empire with      \n",
       "4      The  should never be awarded to countries ...   \n",
       "5  Some serious questions to be asked if  don’t g...   \n",
       "\n",
       "                                     content_clean_3  \\\n",
       "0                       Very good project              \n",
       "2   Scnrio Worldcup Ind Vs SACricket me Gautam Ga...   \n",
       "3     In the meantime  is building an empire with      \n",
       "4      The  should never be awarded to countries ...   \n",
       "5  Some serious questions to be asked if  don’t g...   \n",
       "\n",
       "                                     content_clean_4  \\\n",
       "0                       Very good project              \n",
       "2   Scnrio Worldcup Ind Vs SACricket me Gautam Ga...   \n",
       "3     In the meantime  is building an empire with      \n",
       "4      The  should never be awarded to countries ...   \n",
       "5  Some serious questions to be asked if  don’t g...   \n",
       "\n",
       "                                     content_clean_5  \\\n",
       "0                       very good project              \n",
       "2   scnrio worldcup ind vs sacricket me gautam ga...   \n",
       "3     in the meantime  is building an empire with      \n",
       "4      the  should never be awarded to countries ...   \n",
       "5  some serious questions to be asked if  don’t g...   \n",
       "\n",
       "                                     content_clean_6  \n",
       "0                            good project             \n",
       "2   scnrio worldcup ind vs sacricket gautam gambh...  \n",
       "3                          meantime  build empire     \n",
       "4       never award countries regard  think will ...  \n",
       "5  serious question ask  don’t get sellout quarte...  "
      ]
     },
     "execution_count": 39,
     "metadata": {},
     "output_type": "execute_result"
    }
   ],
   "source": [
    "df_en_tweets.head()"
   ]
  },
  {
   "cell_type": "code",
   "execution_count": 40,
   "metadata": {},
   "outputs": [],
   "source": [
    "df_pl_tweets['content_clean_6'] = df_pl_tweets['content_clean_5']\n",
    "\n",
    "lemmatized_texts = []\n",
    "\n",
    "for row in df_pl_tweets['content_clean_6']:\n",
    "    text = row\n",
    "    word_tokens = text.split(\" \")\n",
    "\n",
    "    lemmas  = []\n",
    "    lemmatized_text = []\n",
    "\n",
    "    for word in word_tokens:\n",
    "        if word not in stop_words_pl:\n",
    "            lemmas.append(lemmatizer.lemmatize(word, pos = 'v'))\n",
    "\n",
    "    lemmatized_text = \" \".join(lemmas)\n",
    "\n",
    "    lemmatized_texts.append(lemmatized_text)\n",
    "    \n",
    "df_pl_tweets['content_clean_6']= lemmatized_texts"
   ]
  },
  {
   "cell_type": "code",
   "execution_count": 41,
   "metadata": {},
   "outputs": [
    {
     "data": {
      "text/html": [
       "<div>\n",
       "<style scoped>\n",
       "    .dataframe tbody tr th:only-of-type {\n",
       "        vertical-align: middle;\n",
       "    }\n",
       "\n",
       "    .dataframe tbody tr th {\n",
       "        vertical-align: top;\n",
       "    }\n",
       "\n",
       "    .dataframe thead th {\n",
       "        text-align: right;\n",
       "    }\n",
       "</style>\n",
       "<table border=\"1\" class=\"dataframe\">\n",
       "  <thead>\n",
       "    <tr style=\"text-align: right;\">\n",
       "      <th></th>\n",
       "      <th>ID</th>\n",
       "      <th>lang</th>\n",
       "      <th>content</th>\n",
       "      <th>location</th>\n",
       "      <th>content_clean_1</th>\n",
       "      <th>content_clean_2</th>\n",
       "      <th>content_clean_3</th>\n",
       "      <th>content_clean_4</th>\n",
       "      <th>content_clean_5</th>\n",
       "      <th>content_clean_6</th>\n",
       "    </tr>\n",
       "  </thead>\n",
       "  <tbody>\n",
       "    <tr>\n",
       "      <th>0</th>\n",
       "      <td>0</td>\n",
       "      <td>pl</td>\n",
       "      <td>Patrząc po dzisiejszym twitterze brak powołani...</td>\n",
       "      <td>462.0</td>\n",
       "      <td>Patrząc po dzisiejszym twitterze brak powołani...</td>\n",
       "      <td>Patrząc po dzisiejszym twitterze brak powołani...</td>\n",
       "      <td>Patrząc po dzisiejszym twitterze brak powołani...</td>\n",
       "      <td>Patrząc po dzisiejszym twitterze brak powołani...</td>\n",
       "      <td>patrząc po dzisiejszym twitterze brak powołani...</td>\n",
       "      <td>patrząc dzisiejszym twitterze brak powołania m...</td>\n",
       "    </tr>\n",
       "    <tr>\n",
       "      <th>1</th>\n",
       "      <td>1</td>\n",
       "      <td>pl</td>\n",
       "      <td>awieeee https://t.co/2g9JCV08Fq</td>\n",
       "      <td>NaN</td>\n",
       "      <td>awieeee https//tco/2g9JCV08Fq</td>\n",
       "      <td>awieeee https//tco/2g9JCV08Fq</td>\n",
       "      <td>awieeee https//tco/2g9JCV08Fq</td>\n",
       "      <td>awieeee https//tco/2g9JCV08Fq</td>\n",
       "      <td>awieeee https//tco/2g9jcv08fq</td>\n",
       "      <td>awieeee https//tco/2g9jcv08fq</td>\n",
       "    </tr>\n",
       "    <tr>\n",
       "      <th>2</th>\n",
       "      <td>2</td>\n",
       "      <td>pl</td>\n",
       "      <td>-Brak większej liczby reprezentacji, choćby ty...</td>\n",
       "      <td>1530.0</td>\n",
       "      <td>-Brak większej liczby reprezentacji choćby tyc...</td>\n",
       "      <td>-Brak większej liczby reprezentacji choćby tyc...</td>\n",
       "      <td>-Brak większej liczby reprezentacji choćby tyc...</td>\n",
       "      <td>-Brak większej liczby reprezentacji choćby tyc...</td>\n",
       "      <td>-brak większej liczby reprezentacji choćby tyc...</td>\n",
       "      <td>-brak większej liczby reprezentacji choćby tyc...</td>\n",
       "    </tr>\n",
       "    <tr>\n",
       "      <th>3</th>\n",
       "      <td>3</td>\n",
       "      <td>pl</td>\n",
       "      <td>@OmzRi @PK_GOV_PL @podlaskaPolicja @MS_GOV_PL ...</td>\n",
       "      <td>NaN</td>\n",
       "      <td>@OmzRi @PK_GOV_PL @podlaskaPolicja @MS_GOV_PL ...</td>\n",
       "      <td>To ten sam który uciekł przed wymiarem sp...</td>\n",
       "      <td>To ten sam który uciekł przed wymiarem sp...</td>\n",
       "      <td>To ten sam który uciekł przed wymiarem sp...</td>\n",
       "      <td>to ten sam który uciekł przed wymiarem sp...</td>\n",
       "      <td>który uciekł wymiarem sprawiedliwości aha</td>\n",
       "    </tr>\n",
       "    <tr>\n",
       "      <th>4</th>\n",
       "      <td>4</td>\n",
       "      <td>pl</td>\n",
       "      <td>@gggfx129 przecież to będzie kurwa żart jak na...</td>\n",
       "      <td>NaN</td>\n",
       "      <td>@gggfx129 przecież to będzie kurwa żart jak na...</td>\n",
       "      <td>przecież to będzie kurwa żart jak na mundial ...</td>\n",
       "      <td>przecież to będzie kurwa żart jak na mundial ...</td>\n",
       "      <td>przecież to będzie kurwa żart jak na mundial ...</td>\n",
       "      <td>przecież to będzie kurwa żart jak na mundial ...</td>\n",
       "      <td>przecież będzie kurwa żart mundial pojedzie d...</td>\n",
       "    </tr>\n",
       "  </tbody>\n",
       "</table>\n",
       "</div>"
      ],
      "text/plain": [
       "   ID lang                                            content  location  \\\n",
       "0   0   pl  Patrząc po dzisiejszym twitterze brak powołani...     462.0   \n",
       "1   1   pl                    awieeee https://t.co/2g9JCV08Fq       NaN   \n",
       "2   2   pl  -Brak większej liczby reprezentacji, choćby ty...    1530.0   \n",
       "3   3   pl  @OmzRi @PK_GOV_PL @podlaskaPolicja @MS_GOV_PL ...       NaN   \n",
       "4   4   pl  @gggfx129 przecież to będzie kurwa żart jak na...       NaN   \n",
       "\n",
       "                                     content_clean_1  \\\n",
       "0  Patrząc po dzisiejszym twitterze brak powołani...   \n",
       "1                      awieeee https//tco/2g9JCV08Fq   \n",
       "2  -Brak większej liczby reprezentacji choćby tyc...   \n",
       "3  @OmzRi @PK_GOV_PL @podlaskaPolicja @MS_GOV_PL ...   \n",
       "4  @gggfx129 przecież to będzie kurwa żart jak na...   \n",
       "\n",
       "                                     content_clean_2  \\\n",
       "0  Patrząc po dzisiejszym twitterze brak powołani...   \n",
       "1                      awieeee https//tco/2g9JCV08Fq   \n",
       "2  -Brak większej liczby reprezentacji choćby tyc...   \n",
       "3       To ten sam który uciekł przed wymiarem sp...   \n",
       "4   przecież to będzie kurwa żart jak na mundial ...   \n",
       "\n",
       "                                     content_clean_3  \\\n",
       "0  Patrząc po dzisiejszym twitterze brak powołani...   \n",
       "1                      awieeee https//tco/2g9JCV08Fq   \n",
       "2  -Brak większej liczby reprezentacji choćby tyc...   \n",
       "3       To ten sam który uciekł przed wymiarem sp...   \n",
       "4   przecież to będzie kurwa żart jak na mundial ...   \n",
       "\n",
       "                                     content_clean_4  \\\n",
       "0  Patrząc po dzisiejszym twitterze brak powołani...   \n",
       "1                      awieeee https//tco/2g9JCV08Fq   \n",
       "2  -Brak większej liczby reprezentacji choćby tyc...   \n",
       "3       To ten sam który uciekł przed wymiarem sp...   \n",
       "4   przecież to będzie kurwa żart jak na mundial ...   \n",
       "\n",
       "                                     content_clean_5  \\\n",
       "0  patrząc po dzisiejszym twitterze brak powołani...   \n",
       "1                      awieeee https//tco/2g9jcv08fq   \n",
       "2  -brak większej liczby reprezentacji choćby tyc...   \n",
       "3       to ten sam który uciekł przed wymiarem sp...   \n",
       "4   przecież to będzie kurwa żart jak na mundial ...   \n",
       "\n",
       "                                     content_clean_6  \n",
       "0  patrząc dzisiejszym twitterze brak powołania m...  \n",
       "1                      awieeee https//tco/2g9jcv08fq  \n",
       "2  -brak większej liczby reprezentacji choćby tyc...  \n",
       "3          który uciekł wymiarem sprawiedliwości aha  \n",
       "4   przecież będzie kurwa żart mundial pojedzie d...  "
      ]
     },
     "execution_count": 41,
     "metadata": {},
     "output_type": "execute_result"
    }
   ],
   "source": [
    "df_pl_tweets.head()"
   ]
  },
  {
   "cell_type": "markdown",
   "metadata": {},
   "source": [
    "### Vectorize"
   ]
  },
  {
   "cell_type": "code",
   "execution_count": 42,
   "metadata": {},
   "outputs": [],
   "source": [
    "from sklearn.feature_extraction.text import CountVectorizer"
   ]
  },
  {
   "cell_type": "code",
   "execution_count": 43,
   "metadata": {},
   "outputs": [],
   "source": [
    "ngram_range = (1,2)\n",
    "min_df = 20\n",
    "\n",
    "tfidf_en = TfidfVectorizer(ngram_range=ngram_range, min_df=min_df, norm=None)\n"
   ]
  },
  {
   "cell_type": "code",
   "execution_count": 44,
   "metadata": {},
   "outputs": [],
   "source": [
    "count_en = CountVectorizer(ngram_range = (1,2), min_df=min_df)\n",
    "df_cnt = count_en.fit_transform(df_en_tweets[\"content_clean_6\"]).toarray()"
   ]
  },
  {
   "cell_type": "code",
   "execution_count": 45,
   "metadata": {},
   "outputs": [
    {
     "name": "stdout",
     "output_type": "stream",
     "text": [
      "(19867, 1964)\n",
      "(1964,)\n",
      "[0. 0. 0. ... 0. 0. 0.]\n"
     ]
    }
   ],
   "source": [
    "df = tfidf_en.fit_transform(df_en_tweets[\"content_clean_6\"]).toarray()\n",
    "print(df.shape)\n",
    "print(df[0].shape)\n",
    "print(df[0])"
   ]
  },
  {
   "cell_type": "code",
   "execution_count": 46,
   "metadata": {},
   "outputs": [
    {
     "name": "stdout",
     "output_type": "stream",
     "text": [
      "['10' '100' '1000' '11' '12' '12 group' '13' '130' '131' '14']\n"
     ]
    }
   ],
   "source": [
    "print(tfidf_en.get_feature_names_out()[:10])"
   ]
  },
  {
   "cell_type": "code",
   "execution_count": 47,
   "metadata": {},
   "outputs": [
    {
     "name": "stdout",
     "output_type": "stream",
     "text": [
      "['10' '100' '1000' '11' '12' '12 group' '13' '130' '131' '14']\n"
     ]
    }
   ],
   "source": [
    "print(count_en.get_feature_names_out()[:10])"
   ]
  },
  {
   "cell_type": "markdown",
   "metadata": {},
   "source": [
    "## DBSCAN"
   ]
  },
  {
   "cell_type": "code",
   "execution_count": 48,
   "metadata": {},
   "outputs": [],
   "source": [
    "import DBSCAN as ds\n",
    "import numpy as np\n",
    "from sklearn.neighbors import NearestNeighbors\n",
    "import matplotlib.pyplot as plt"
   ]
  },
  {
   "cell_type": "markdown",
   "metadata": {},
   "source": [
    "### find optimal parameters"
   ]
  },
  {
   "cell_type": "code",
   "execution_count": 49,
   "metadata": {},
   "outputs": [],
   "source": [
    "\n",
    "# n_neighbors = 5 as kneighbors function returns distance of point to itself (i.e. first column will be zeros) \n",
    "neigbours = NearestNeighbors(n_neighbors=5).fit(df)\n",
    "# Find the k-neighbors of a point\n",
    "neigh_dist, neigh_ind = neigbours.kneighbors(df)\n",
    "# sort the neighbor distances (lengths to points) in ascending order\n",
    "# axis = 0 represents sort along first axis i.e. sort along row\n",
    "sort_neigh_dist = np.sort(neigh_dist, axis=0)"
   ]
  },
  {
   "cell_type": "code",
   "execution_count": 50,
   "metadata": {},
   "outputs": [
    {
     "data": {
      "text/plain": [
       "array([[0.00000000e+00, 0.00000000e+00, 0.00000000e+00, 0.00000000e+00,\n",
       "        0.00000000e+00],\n",
       "       [0.00000000e+00, 0.00000000e+00, 0.00000000e+00, 0.00000000e+00,\n",
       "        0.00000000e+00],\n",
       "       [0.00000000e+00, 0.00000000e+00, 0.00000000e+00, 0.00000000e+00,\n",
       "        0.00000000e+00],\n",
       "       ...,\n",
       "       [1.34869915e-06, 4.85062960e+01, 5.37294911e+01, 5.52458074e+01,\n",
       "        5.61805350e+01],\n",
       "       [1.34869915e-06, 5.15059960e+01, 5.63953735e+01, 5.73239331e+01,\n",
       "        5.74322210e+01],\n",
       "       [1.34869915e-06, 6.42817008e+01, 6.43770526e+01, 6.59924365e+01,\n",
       "        6.74645764e+01]])"
      ]
     },
     "execution_count": 50,
     "metadata": {},
     "output_type": "execute_result"
    }
   ],
   "source": [
    "sort_neigh_dist"
   ]
  },
  {
   "cell_type": "code",
   "execution_count": 51,
   "metadata": {},
   "outputs": [
    {
     "data": {
      "image/png": "[encoded data removed]",
      "text/plain": [
       "<Figure size 640x480 with 1 Axes>"
      ]
     },
     "metadata": {},
     "output_type": "display_data"
    }
   ],
   "source": [
    "k_dist = sort_neigh_dist[:, 4 ]\n",
    "plt.plot(k_dist)\n",
    "plt.axhline(y=2, linewidth=1, linestyle='dashed', color='k')\n",
    "plt.ylabel(\"k-NN distance\")\n",
    "plt.xlabel(\"Sorted observations (4th NN)\")\n",
    "plt.show()"
   ]
  },
  {
   "cell_type": "code",
   "execution_count": 58,
   "metadata": {},
   "outputs": [],
   "source": [
    "# experimental\n",
    "min_pts = 2*(df_cnt.shape[1])"
   ]
  },
  {
   "cell_type": "code",
   "execution_count": 59,
   "metadata": {},
   "outputs": [
    {
     "data": {
      "text/plain": [
       "array([[ 0.        ,  0.        ,  0.        , ...,  2.        ,\n",
       "         2.        ,  2.        ],\n",
       "       [ 0.        ,  0.        ,  0.        , ...,  2.        ,\n",
       "         2.        ,  2.        ],\n",
       "       [ 0.        ,  0.        ,  0.        , ...,  2.        ,\n",
       "         2.        ,  2.        ],\n",
       "       ...,\n",
       "       [ 0.        ,  8.30662386,  9.05538514, ..., 11.66190379,\n",
       "        11.66190379, 11.66190379],\n",
       "       [ 0.        ,  9.11043358,  9.2736185 , ..., 13.19090596,\n",
       "        13.19090596, 13.19090596],\n",
       "       [ 0.        ,  9.89949494, 10.04987562, ..., 13.19090596,\n",
       "        13.19090596, 13.19090596]])"
      ]
     },
     "execution_count": 59,
     "metadata": {},
     "output_type": "execute_result"
    }
   ],
   "source": [
    "\n",
    "# n_neighbors = 5 as kneighbors function returns distance of point to itself (i.e. first column will be zeros) \n",
    "neigbours = NearestNeighbors(n_neighbors=min_pts-1).fit(df_cnt)\n",
    "# Find the k-neighbors of a point\n",
    "neigh_dist, neigh_ind = neigbours.kneighbors(df_cnt)\n",
    "# sort the neighbor distances (lengths to points) in ascending order\n",
    "# axis = 0 represents sort along first axis i.e. sort along row\n",
    "sort_neigh_dist = np.sort(neigh_dist, axis=0)\n",
    "sort_neigh_dist"
   ]
  },
  {
   "cell_type": "code",
   "execution_count": 64,
   "metadata": {},
   "outputs": [
    {
     "data": {
      "image/png": "[encoded data removed]",
      "text/plain": [
       "<Figure size 640x480 with 1 Axes>"
      ]
     },
     "metadata": {},
     "output_type": "display_data"
    }
   ],
   "source": [
    "k_dist = sort_neigh_dist[:,min_pts-2]\n",
    "plt.plot(k_dist)\n",
    "plt.axhline(y=5, linewidth=1, linestyle='dashed', color='k')\n",
    "plt.ylabel(\"k-NN distance\")\n",
    "plt.xlabel(\"Sorted observations (4th NN)\")\n",
    "plt.show()\n"
   ]
  },
  {
   "cell_type": "code",
   "execution_count": 65,
   "metadata": {},
   "outputs": [
    {
     "name": "stdout",
     "output_type": "stream",
     "text": [
      "num features is: 1964\n"
     ]
    }
   ],
   "source": [
    "print(f\"num features is: {df_cnt.shape[1]}\")"
   ]
  },
  {
   "cell_type": "code",
   "execution_count": 66,
   "metadata": {},
   "outputs": [
    {
     "name": "stdout",
     "output_type": "stream",
     "text": [
      "min_pts parameter is: 3928, epsilon parameter is: 5\n"
     ]
    }
   ],
   "source": [
    "# from plot\n",
    "eps = 5\n",
    "\n",
    "print(f\"min_pts parameter is: {min_pts}, epsilon parameter is: {eps}\")"
   ]
  },
  {
   "cell_type": "markdown",
   "metadata": {},
   "source": [
    "### apply dbscan"
   ]
  },
  {
   "cell_type": "code",
   "execution_count": null,
   "metadata": {},
   "outputs": [],
   "source": [
    "result = ds.dbscan(db_values = df_cnt, eps= eps, min_points= min_pts)"
   ]
  },
  {
   "cell_type": "code",
   "execution_count": null,
   "metadata": {},
   "outputs": [],
   "source": [
    "df = pd.DataFrame(result) \n",
    "df"
   ]
  }
 ],
 "metadata": {
  "kernelspec": {
   "display_name": "Python 3.10.9 ('med-dbscan': venv)",
   "language": "python",
   "name": "python3"
  },
  "language_info": {
   "codemirror_mode": {
    "name": "ipython",
    "version": 3
   },
   "file_extension": ".py",
   "mimetype": "text/x-python",
   "name": "python",
   "nbconvert_exporter": "python",
   "pygments_lexer": "ipython3",
   "version": "3.10.9"
  },
  "orig_nbformat": 4,
  "vscode": {
   "interpreter": {
    "hash": "fa7fd3f0e24fa8644e0da10f40ff2c8f6a08a513772b432ed42da2cf0b22378d"
   }
  }
 },
 "nbformat": 4,
 "nbformat_minor": 2
}
